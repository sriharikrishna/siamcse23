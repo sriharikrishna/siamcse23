{
  "nbformat": 4,
  "nbformat_minor": 0,
  "metadata": {
    "colab": {
      "provenance": [],
      "include_colab_link": true
    },
    "kernelspec": {
      "name": "python3",
      "display_name": "Python 3"
    }
  },
  "cells": [
    {
      "cell_type": "markdown",
      "metadata": {
        "id": "view-in-github",
        "colab_type": "text"
      },
      "source": [
        "<a href=\"https://colab.research.google.com/github/sriharikrishna/siamcse23/blob/main/tapenade.ipynb\" target=\"_parent\"><img src=\"https://colab.research.google.com/assets/colab-badge.svg\" alt=\"Open In Colab\"/></a>"
      ]
    },
    {
      "cell_type": "markdown",
      "metadata": {
        "id": "VIP0_7_N7WHH"
      },
      "source": [
        "# Tapenade mini benchmark\n",
        "\n",
        "In this notebook we differentiate a small function with Tapenade in forward and reverse mode, then measure the run time of the obtained functions.\n",
        "\n",
        "We use [Tapenade](http://tapenade.inria.fr:8080) and C for this. Apologies if the syntax highlighting for C is not perfect."
      ]
    },
    {
      "cell_type": "markdown",
      "source": [
        "Download Tapenade and unpack it"
      ],
      "metadata": {
        "id": "vozqRt9bU2iE"
      }
    },
    {
      "cell_type": "code",
      "source": [
        "%%script bash\n",
        "wget https://tapenade.gitlabpages.inria.fr/tapenade/distrib/tapenade_3.16.tar\n",
        "tar -xvf tapenade_3.16.tar"
      ],
      "metadata": {
        "colab": {
          "base_uri": "https://localhost:8080/"
        },
        "id": "cwfeLOmsS3J4",
        "outputId": "e10aa5b4-c3f3-4b34-94ed-347ef6a4132d"
      },
      "execution_count": null,
      "outputs": [
        {
          "output_type": "stream",
          "name": "stdout",
          "text": [
            "tapenade_3.16/\n",
            "tapenade_3.16/README.html\n",
            "tapenade_3.16/bin/\n",
            "tapenade_3.16/bin/tapenadeassert\n",
            "tapenade_3.16/bin/linux/\n",
            "tapenade_3.16/bin/linux/fortranParser\n",
            "tapenade_3.16/bin/cppParserRun.sh\n",
            "tapenade_3.16/bin/tapenadocker\n",
            "tapenade_3.16/bin/tapenade.bat\n",
            "tapenade_3.16/bin/tapenade\n",
            "tapenade_3.16/bin/tapclass\n",
            "tapenade_3.16/bin/fortranParserRun.sh\n",
            "tapenade_3.16/bin/windows/\n",
            "tapenade_3.16/bin/windows/fortranParser.exe\n",
            "tapenade_3.16/bin/tapenadeaa\n",
            "tapenade_3.16/bin/mac/\n",
            "tapenade_3.16/ADFirstAidKit/\n",
            "tapenade_3.16/ADFirstAidKit/adContext.c\n",
            "tapenade_3.16/ADFirstAidKit/testMemSizec.c\n",
            "tapenade_3.16/ADFirstAidKit/adOMP.h\n",
            "tapenade_3.16/ADFirstAidKit/contextAD.sh\n",
            "tapenade_3.16/ADFirstAidKit/adContextCPX.c\n",
            "tapenade_3.16/ADFirstAidKit/admm_tapenade_interface.f90\n",
            "tapenade_3.16/ADFirstAidKit/README.md\n",
            "tapenade_3.16/ADFirstAidKit/OLDadBuffer.f\n",
            "tapenade_3.16/ADFirstAidKit/OLDadStack.h\n",
            "tapenade_3.16/ADFirstAidKit/validityTest.f\n",
            "tapenade_3.16/ADFirstAidKit/PUSHPOPGeneralLib\n",
            "tapenade_3.16/ADFirstAidKit/adDebug.h\n",
            "tapenade_3.16/ADFirstAidKit/adDebug.c\n",
            "tapenade_3.16/ADFirstAidKit/adProfile.h\n",
            "tapenade_3.16/ADFirstAidKit/OLDadBuffer.h\n",
            "tapenade_3.16/ADFirstAidKit/adDebugMPI.c\n",
            "tapenade_3.16/ADFirstAidKit/adComplex.h\n",
            "tapenade_3.16/ADFirstAidKit/ampi/\n",
            "tapenade_3.16/ADFirstAidKit/ampi/tape/\n",
            "tapenade_3.16/ADFirstAidKit/ampi/tape/support.h\n",
            "tapenade_3.16/ADFirstAidKit/ampi/libCommon/\n",
            "tapenade_3.16/ADFirstAidKit/ampi/libCommon/st.h\n",
            "tapenade_3.16/ADFirstAidKit/ampi/libCommon/modified.h\n",
            "tapenade_3.16/ADFirstAidKit/ampi/userIF/\n",
            "tapenade_3.16/ADFirstAidKit/ampi/userIF/activity.h\n",
            "tapenade_3.16/ADFirstAidKit/ampi/userIF/st.h\n",
            "tapenade_3.16/ADFirstAidKit/ampi/userIF/libConfig.h\n",
            "tapenade_3.16/ADFirstAidKit/ampi/userIF/modified.h\n",
            "tapenade_3.16/ADFirstAidKit/ampi/userIF/nt.h\n",
            "tapenade_3.16/ADFirstAidKit/ampi/userIF/pairedWith.h\n",
            "tapenade_3.16/ADFirstAidKit/ampi/userIF/request.h\n",
            "tapenade_3.16/ADFirstAidKit/ampi/userIF/passThrough.h\n",
            "tapenade_3.16/ADFirstAidKit/ampi/userIF/window.h\n",
            "tapenade_3.16/ADFirstAidKit/ampi/bookkeeping/\n",
            "tapenade_3.16/ADFirstAidKit/ampi/bookkeeping/support.h\n",
            "tapenade_3.16/ADFirstAidKit/ampi/adTool/\n",
            "tapenade_3.16/ADFirstAidKit/ampi/adTool/support.h\n",
            "tapenade_3.16/ADFirstAidKit/ampi/ampif.h\n",
            "tapenade_3.16/ADFirstAidKit/ampi/ampi.h\n",
            "tapenade_3.16/ADFirstAidKit/adContextCPX.h\n",
            "tapenade_3.16/ADFirstAidKit/testMemSizef.f\n",
            "tapenade_3.16/ADFirstAidKit/adProfile.c\n",
            "tapenade_3.16/ADFirstAidKit/adBinomial.c\n",
            "tapenade_3.16/ADFirstAidKit/adContextMPI.c\n",
            "tapenade_3.16/ADFirstAidKit/OLDadStack.c\n",
            "tapenade_3.16/ADFirstAidKit/admm.h\n",
            "tapenade_3.16/ADFirstAidKit/adBinomial.h\n",
            "tapenade_3.16/ADFirstAidKit/fortranSupport.F\n",
            "tapenade_3.16/ADFirstAidKit/testpushpop.f90\n",
            "tapenade_3.16/ADFirstAidKit/adStack.h\n",
            "tapenade_3.16/ADFirstAidKit/adOMP.c\n",
            "tapenade_3.16/ADFirstAidKit/adContext.h\n",
            "tapenade_3.16/ADFirstAidKit/testpushpop.sh\n",
            "tapenade_3.16/ADFirstAidKit/adStack.c\n",
            "tapenade_3.16/ADFirstAidKit/ampiSupport.c\n",
            "tapenade_3.16/ADFirstAidKit/admm.c\n",
            "tapenade_3.16/ADFirstAidKit/PUSHPOPDiff.f\n",
            "tapenade_3.16/ADFirstAidKit/OLDadBuffer.c\n",
            "tapenade_3.16/resources/\n",
            "tapenade_3.16/resources/lib/\n",
            "tapenade_3.16/resources/lib/iso_c_bindingf.f90\n",
            "tapenade_3.16/resources/lib/F95GeneralLib\n",
            "tapenade_3.16/resources/lib/F77GeneralLib\n",
            "tapenade_3.16/resources/lib/GeneralLib\n",
            "tapenade_3.16/resources/lib/CudaGeneralLib\n",
            "tapenade_3.16/resources/lib/MessagePassingLib\n",
            "tapenade_3.16/resources/lib/mpif.f90\n",
            "tapenade_3.16/resources/lib/CGeneralLib\n",
            "tapenade_3.16/LICENSE.html\n",
            "tapenade_3.16/build/\n",
            "tapenade_3.16/build/libs/\n",
            "tapenade_3.16/build/libs/tapenadehtml.jar\n",
            "tapenade_3.16/build/libs/frontc.jar\n",
            "tapenade_3.16/build/libs/tapenade-3.16.jar\n"
          ]
        },
        {
          "output_type": "stream",
          "name": "stderr",
          "text": [
            "--2023-02-13 22:02:33--  https://tapenade.gitlabpages.inria.fr/tapenade/distrib/tapenade_3.16.tar\n",
            "Resolving tapenade.gitlabpages.inria.fr (tapenade.gitlabpages.inria.fr)... 128.93.193.23\n",
            "Connecting to tapenade.gitlabpages.inria.fr (tapenade.gitlabpages.inria.fr)|128.93.193.23|:443... connected.\n",
            "HTTP request sent, awaiting response... 200 OK\n",
            "Length: 3034495 (2.9M) [application/x-tar]\n",
            "Saving to: ‘tapenade_3.16.tar’\n",
            "\n",
            "     0K .......... .......... .......... .......... ..........  1%  358K 8s\n",
            "    50K .......... .......... .......... .......... ..........  3%  360K 8s\n",
            "   100K .......... .......... .......... .......... ..........  5% 66.3M 5s\n",
            "   150K .......... .......... .......... .......... ..........  6%  144M 4s\n",
            "   200K .......... .......... .......... .......... ..........  8%  360K 5s\n",
            "   250K .......... .......... .......... .......... .......... 10% 79.2M 4s\n",
            "   300K .......... .......... .......... .......... .......... 11% 89.4M 3s\n",
            "   350K .......... .......... .......... .......... .......... 13%  133M 3s\n",
            "   400K .......... .......... .......... .......... .......... 15%  365K 3s\n",
            "   450K .......... .......... .......... .......... .......... 16% 56.9M 3s\n",
            "   500K .......... .......... .......... .......... .......... 18% 89.9M 2s\n",
            "   550K .......... .......... .......... .......... .......... 20% 73.0M 2s\n",
            "   600K .......... .......... .......... .......... .......... 21% 13.7M 2s\n",
            "   650K .......... .......... .......... .......... .......... 23% 62.0M 2s\n",
            "   700K .......... .......... .......... .......... .......... 25%  205M 2s\n",
            "   750K .......... .......... .......... .......... .......... 26%  176M 2s\n",
            "   800K .......... .......... .......... .......... .......... 28%  201M 1s\n",
            "   850K .......... .......... .......... .......... .......... 30%  378K 2s\n",
            "   900K .......... .......... .......... .......... .......... 32% 71.5M 1s\n",
            "   950K .......... .......... .......... .......... .......... 33% 66.2M 1s\n",
            "  1000K .......... .......... .......... .......... .......... 35%  100M 1s\n",
            "  1050K .......... .......... .......... .......... .......... 37%  177M 1s\n",
            "  1100K .......... .......... .......... .......... .......... 38%  210M 1s\n",
            "  1150K .......... .......... .......... .......... .......... 40% 19.8M 1s\n",
            "  1200K .......... .......... .......... .......... .......... 42% 48.9M 1s\n",
            "  1250K .......... .......... .......... .......... .......... 43% 40.2M 1s\n",
            "  1300K .......... .......... .......... .......... .......... 45%  268M 1s\n",
            "  1350K .......... .......... .......... .......... .......... 47%  297M 1s\n",
            "  1400K .......... .......... .......... .......... .......... 48%  352M 1s\n",
            "  1450K .......... .......... .......... .......... .......... 50%  347M 1s\n",
            "  1500K .......... .......... .......... .......... .......... 52%  362M 1s\n",
            "  1550K .......... .......... .......... .......... .......... 53%  299M 1s\n",
            "  1600K .......... .......... .......... .......... .......... 55%  219M 1s\n",
            "  1650K .......... .......... .......... .......... .......... 57%  232M 1s\n",
            "  1700K .......... .......... .......... .......... .......... 59%  294M 0s\n",
            "  1750K .......... .......... .......... .......... .......... 60%  383K 1s\n",
            "  1800K .......... .......... .......... .......... .......... 62% 71.7M 1s\n",
            "  1850K .......... .......... .......... .......... .......... 64%  202M 0s\n",
            "  1900K .......... .......... .......... .......... .......... 65%  175M 0s\n",
            "  1950K .......... .......... .......... .......... .......... 67%  166M 0s\n",
            "  2000K .......... .......... .......... .......... .......... 69%  198M 0s\n",
            "  2050K .......... .......... .......... .......... .......... 70%  184M 0s\n",
            "  2100K .......... .......... .......... .......... .......... 72%  194M 0s\n",
            "  2150K .......... .......... .......... .......... .......... 74%  177M 0s\n",
            "  2200K .......... .......... .......... .......... .......... 75%  207M 0s\n",
            "  2250K .......... .......... .......... .......... .......... 77%  190M 0s\n",
            "  2300K .......... .......... .......... .......... .......... 79%  199M 0s\n",
            "  2350K .......... .......... .......... .......... .......... 80% 28.0M 0s\n",
            "  2400K .......... .......... .......... .......... .......... 82%  160M 0s\n",
            "  2450K .......... .......... .......... .......... .......... 84%  155M 0s\n",
            "  2500K .......... .......... .......... .......... .......... 86%  183M 0s\n",
            "  2550K .......... .......... .......... .......... .......... 87%  171M 0s\n",
            "  2600K .......... .......... .......... .......... .......... 89%  248M 0s\n",
            "  2650K .......... .......... .......... .......... .......... 91%  241M 0s\n",
            "  2700K .......... .......... .......... .......... .......... 92% 59.7M 0s\n",
            "  2750K .......... .......... .......... .......... .......... 94% 40.2M 0s\n",
            "  2800K .......... .......... .......... .......... .......... 96% 49.4M 0s\n",
            "  2850K .......... .......... .......... .......... .......... 97% 64.2M 0s\n",
            "  2900K .......... .......... .......... .......... .......... 99% 71.2M 0s\n",
            "  2950K .......... ...                                        100%  185M=0.8s\n",
            "\n",
            "2023-02-13 22:02:35 (3.42 MB/s) - ‘tapenade_3.16.tar’ saved [3034495/3034495]\n",
            "\n"
          ]
        }
      ]
    },
    {
      "cell_type": "markdown",
      "metadata": {
        "id": "25-Q_JM_7yAY"
      },
      "source": [
        "## Input function\n",
        "\n",
        "This is a simple function that takes an input vector of size `n` and produces an output vector of size `m`. It performs a somewhat arbitrary computation internally."
      ]
    },
    {
      "cell_type": "code",
      "metadata": {
        "id": "QWeq9Bbmwled",
        "colab": {
          "base_uri": "https://localhost:8080/"
        },
        "outputId": "a8522054-37da-434a-e5af-4ec5c4631feb"
      },
      "source": [
        "%%writefile fun.c\n",
        "\n",
        "void fun(int n, float a[n], int m, float b[m]) {\n",
        "  float sum = 0.0;\n",
        "  for(int i=0; i<n; i++) {\n",
        "    sum += a[i]*a[i];\n",
        "  }\n",
        "  for(int i=0; i<m; i++) {\n",
        "    b[i] = sum*i;\n",
        "  }\n",
        "}"
      ],
      "execution_count": null,
      "outputs": [
        {
          "output_type": "stream",
          "name": "stdout",
          "text": [
            "Writing fun.c\n"
          ]
        }
      ]
    },
    {
      "cell_type": "code",
      "source": [
        "%%writefile rosenbrock.f\n",
        "REAL*8 FUNCTION ROSENBROCK(x,n) RESULT(y)\n",
        "INTEGER :: n\n",
        "REAL*8 :: x(0:n)\n",
        "y = SUM(100.d0*(x(1:n) - x(0:n-1)**2)**2\n",
        "+ (1-x(0:n-1))**2)\n",
        "END FUNCTION ROSENBROCK"
      ],
      "metadata": {
        "colab": {
          "base_uri": "https://localhost:8080/"
        },
        "id": "fREdkcQ67q5S",
        "outputId": "9ddb8111-ea61-4929-be30-643d61314a57"
      },
      "execution_count": null,
      "outputs": [
        {
          "output_type": "stream",
          "name": "stdout",
          "text": [
            "Writing rosenbrock.f\n"
          ]
        }
      ]
    },
    {
      "cell_type": "code",
      "source": [
        "%%writefile rosenbrock.c\n",
        "void rosenbrock(double const *control, double *out, int n) {\n",
        "  int i;\n",
        "  const double b[10];\n",
        "  double result;\n",
        "  for (i = 0; i < n; i += 2) {\n",
        "    double c1 = (control[i + 1] - control[i] * control[i]);\n",
        "    double  c2 = 1.0 - control[i];\n",
        "    result += b * c1 * c1 + c2 * c2;\n",
        "  }\n",
        "  *out = result;\n",
        "};"
      ],
      "metadata": {
        "colab": {
          "base_uri": "https://localhost:8080/"
        },
        "id": "FLTQpY6m8z4z",
        "outputId": "7c437573-8c3c-4faf-cfe7-4ec02c792daf"
      },
      "execution_count": null,
      "outputs": [
        {
          "output_type": "stream",
          "name": "stdout",
          "text": [
            "Overwriting rosenbrock.c\n"
          ]
        }
      ]
    },
    {
      "cell_type": "code",
      "source": [
        "%%bash\n",
        "gcc rosenbrock.c"
      ],
      "metadata": {
        "colab": {
          "base_uri": "https://localhost:8080/",
          "height": 458
        },
        "id": "wkCUXfR2_kdq",
        "outputId": "0c8bb442-1819-4ae1-f244-9db5911177c0"
      },
      "execution_count": null,
      "outputs": [
        {
          "output_type": "stream",
          "name": "stderr",
          "text": [
            "rosenbrock.c: In function ‘rosenbrock’:\n",
            "rosenbrock.c:8:17: error: invalid operands to binary * (have ‘const double *’ and ‘double’)\n",
            "    8 |     result += b * c1 * c1 + c2 * c2;\n",
            "      |               ~ ^\n",
            "      |               |\n",
            "      |               const double *\n"
          ]
        },
        {
          "output_type": "error",
          "ename": "CalledProcessError",
          "evalue": "ignored",
          "traceback": [
            "\u001b[0;31m---------------------------------------------------------------------------\u001b[0m",
            "\u001b[0;31mCalledProcessError\u001b[0m                        Traceback (most recent call last)",
            "\u001b[0;32m<ipython-input-25-68ac26767342>\u001b[0m in \u001b[0;36m<module>\u001b[0;34m\u001b[0m\n\u001b[0;32m----> 1\u001b[0;31m \u001b[0mget_ipython\u001b[0m\u001b[0;34m(\u001b[0m\u001b[0;34m)\u001b[0m\u001b[0;34m.\u001b[0m\u001b[0mrun_cell_magic\u001b[0m\u001b[0;34m(\u001b[0m\u001b[0;34m'bash'\u001b[0m\u001b[0;34m,\u001b[0m \u001b[0;34m''\u001b[0m\u001b[0;34m,\u001b[0m \u001b[0;34m'gcc rosenbrock.c\\n'\u001b[0m\u001b[0;34m)\u001b[0m\u001b[0;34m\u001b[0m\u001b[0;34m\u001b[0m\u001b[0m\n\u001b[0m",
            "\u001b[0;32m/usr/local/lib/python3.8/dist-packages/IPython/core/interactiveshell.py\u001b[0m in \u001b[0;36mrun_cell_magic\u001b[0;34m(self, magic_name, line, cell)\u001b[0m\n\u001b[1;32m   2357\u001b[0m             \u001b[0;32mwith\u001b[0m \u001b[0mself\u001b[0m\u001b[0;34m.\u001b[0m\u001b[0mbuiltin_trap\u001b[0m\u001b[0;34m:\u001b[0m\u001b[0;34m\u001b[0m\u001b[0;34m\u001b[0m\u001b[0m\n\u001b[1;32m   2358\u001b[0m                 \u001b[0margs\u001b[0m \u001b[0;34m=\u001b[0m \u001b[0;34m(\u001b[0m\u001b[0mmagic_arg_s\u001b[0m\u001b[0;34m,\u001b[0m \u001b[0mcell\u001b[0m\u001b[0;34m)\u001b[0m\u001b[0;34m\u001b[0m\u001b[0;34m\u001b[0m\u001b[0m\n\u001b[0;32m-> 2359\u001b[0;31m                 \u001b[0mresult\u001b[0m \u001b[0;34m=\u001b[0m \u001b[0mfn\u001b[0m\u001b[0;34m(\u001b[0m\u001b[0;34m*\u001b[0m\u001b[0margs\u001b[0m\u001b[0;34m,\u001b[0m \u001b[0;34m**\u001b[0m\u001b[0mkwargs\u001b[0m\u001b[0;34m)\u001b[0m\u001b[0;34m\u001b[0m\u001b[0;34m\u001b[0m\u001b[0m\n\u001b[0m\u001b[1;32m   2360\u001b[0m             \u001b[0;32mreturn\u001b[0m \u001b[0mresult\u001b[0m\u001b[0;34m\u001b[0m\u001b[0;34m\u001b[0m\u001b[0m\n\u001b[1;32m   2361\u001b[0m \u001b[0;34m\u001b[0m\u001b[0m\n",
            "\u001b[0;32m/usr/local/lib/python3.8/dist-packages/IPython/core/magics/script.py\u001b[0m in \u001b[0;36mnamed_script_magic\u001b[0;34m(line, cell)\u001b[0m\n\u001b[1;32m    140\u001b[0m             \u001b[0;32melse\u001b[0m\u001b[0;34m:\u001b[0m\u001b[0;34m\u001b[0m\u001b[0;34m\u001b[0m\u001b[0m\n\u001b[1;32m    141\u001b[0m                 \u001b[0mline\u001b[0m \u001b[0;34m=\u001b[0m \u001b[0mscript\u001b[0m\u001b[0;34m\u001b[0m\u001b[0;34m\u001b[0m\u001b[0m\n\u001b[0;32m--> 142\u001b[0;31m             \u001b[0;32mreturn\u001b[0m \u001b[0mself\u001b[0m\u001b[0;34m.\u001b[0m\u001b[0mshebang\u001b[0m\u001b[0;34m(\u001b[0m\u001b[0mline\u001b[0m\u001b[0;34m,\u001b[0m \u001b[0mcell\u001b[0m\u001b[0;34m)\u001b[0m\u001b[0;34m\u001b[0m\u001b[0;34m\u001b[0m\u001b[0m\n\u001b[0m\u001b[1;32m    143\u001b[0m \u001b[0;34m\u001b[0m\u001b[0m\n\u001b[1;32m    144\u001b[0m         \u001b[0;31m# write a basic docstring:\u001b[0m\u001b[0;34m\u001b[0m\u001b[0;34m\u001b[0m\u001b[0;34m\u001b[0m\u001b[0m\n",
            "\u001b[0;32m<decorator-gen-103>\u001b[0m in \u001b[0;36mshebang\u001b[0;34m(self, line, cell)\u001b[0m\n",
            "\u001b[0;32m/usr/local/lib/python3.8/dist-packages/IPython/core/magic.py\u001b[0m in \u001b[0;36m<lambda>\u001b[0;34m(f, *a, **k)\u001b[0m\n\u001b[1;32m    185\u001b[0m     \u001b[0;31m# but it's overkill for just that one bit of state.\u001b[0m\u001b[0;34m\u001b[0m\u001b[0;34m\u001b[0m\u001b[0;34m\u001b[0m\u001b[0m\n\u001b[1;32m    186\u001b[0m     \u001b[0;32mdef\u001b[0m \u001b[0mmagic_deco\u001b[0m\u001b[0;34m(\u001b[0m\u001b[0marg\u001b[0m\u001b[0;34m)\u001b[0m\u001b[0;34m:\u001b[0m\u001b[0;34m\u001b[0m\u001b[0;34m\u001b[0m\u001b[0m\n\u001b[0;32m--> 187\u001b[0;31m         \u001b[0mcall\u001b[0m \u001b[0;34m=\u001b[0m \u001b[0;32mlambda\u001b[0m \u001b[0mf\u001b[0m\u001b[0;34m,\u001b[0m \u001b[0;34m*\u001b[0m\u001b[0ma\u001b[0m\u001b[0;34m,\u001b[0m \u001b[0;34m**\u001b[0m\u001b[0mk\u001b[0m\u001b[0;34m:\u001b[0m \u001b[0mf\u001b[0m\u001b[0;34m(\u001b[0m\u001b[0;34m*\u001b[0m\u001b[0ma\u001b[0m\u001b[0;34m,\u001b[0m \u001b[0;34m**\u001b[0m\u001b[0mk\u001b[0m\u001b[0;34m)\u001b[0m\u001b[0;34m\u001b[0m\u001b[0;34m\u001b[0m\u001b[0m\n\u001b[0m\u001b[1;32m    188\u001b[0m \u001b[0;34m\u001b[0m\u001b[0m\n\u001b[1;32m    189\u001b[0m         \u001b[0;32mif\u001b[0m \u001b[0mcallable\u001b[0m\u001b[0;34m(\u001b[0m\u001b[0marg\u001b[0m\u001b[0;34m)\u001b[0m\u001b[0;34m:\u001b[0m\u001b[0;34m\u001b[0m\u001b[0;34m\u001b[0m\u001b[0m\n",
            "\u001b[0;32m/usr/local/lib/python3.8/dist-packages/IPython/core/magics/script.py\u001b[0m in \u001b[0;36mshebang\u001b[0;34m(self, line, cell)\u001b[0m\n\u001b[1;32m    243\u001b[0m             \u001b[0msys\u001b[0m\u001b[0;34m.\u001b[0m\u001b[0mstderr\u001b[0m\u001b[0;34m.\u001b[0m\u001b[0mflush\u001b[0m\u001b[0;34m(\u001b[0m\u001b[0;34m)\u001b[0m\u001b[0;34m\u001b[0m\u001b[0;34m\u001b[0m\u001b[0m\n\u001b[1;32m    244\u001b[0m         \u001b[0;32mif\u001b[0m \u001b[0margs\u001b[0m\u001b[0;34m.\u001b[0m\u001b[0mraise_error\u001b[0m \u001b[0;32mand\u001b[0m \u001b[0mp\u001b[0m\u001b[0;34m.\u001b[0m\u001b[0mreturncode\u001b[0m\u001b[0;34m!=\u001b[0m\u001b[0;36m0\u001b[0m\u001b[0;34m:\u001b[0m\u001b[0;34m\u001b[0m\u001b[0;34m\u001b[0m\u001b[0m\n\u001b[0;32m--> 245\u001b[0;31m             \u001b[0;32mraise\u001b[0m \u001b[0mCalledProcessError\u001b[0m\u001b[0;34m(\u001b[0m\u001b[0mp\u001b[0m\u001b[0;34m.\u001b[0m\u001b[0mreturncode\u001b[0m\u001b[0;34m,\u001b[0m \u001b[0mcell\u001b[0m\u001b[0;34m,\u001b[0m \u001b[0moutput\u001b[0m\u001b[0;34m=\u001b[0m\u001b[0mout\u001b[0m\u001b[0;34m,\u001b[0m \u001b[0mstderr\u001b[0m\u001b[0;34m=\u001b[0m\u001b[0merr\u001b[0m\u001b[0;34m)\u001b[0m\u001b[0;34m\u001b[0m\u001b[0;34m\u001b[0m\u001b[0m\n\u001b[0m\u001b[1;32m    246\u001b[0m \u001b[0;34m\u001b[0m\u001b[0m\n\u001b[1;32m    247\u001b[0m     \u001b[0;32mdef\u001b[0m \u001b[0m_run_script\u001b[0m\u001b[0;34m(\u001b[0m\u001b[0mself\u001b[0m\u001b[0;34m,\u001b[0m \u001b[0mp\u001b[0m\u001b[0;34m,\u001b[0m \u001b[0mcell\u001b[0m\u001b[0;34m,\u001b[0m \u001b[0mto_close\u001b[0m\u001b[0;34m)\u001b[0m\u001b[0;34m:\u001b[0m\u001b[0;34m\u001b[0m\u001b[0;34m\u001b[0m\u001b[0m\n",
            "\u001b[0;31mCalledProcessError\u001b[0m: Command 'b'gcc rosenbrock.c\\n'' returned non-zero exit status 1."
          ]
        }
      ]
    },
    {
      "cell_type": "code",
      "source": [
        "%%bash\n",
        "/content/tapenade_3.16/bin/tapenade -d rosenbrock.f"
      ],
      "metadata": {
        "colab": {
          "base_uri": "https://localhost:8080/"
        },
        "id": "F0PSPRir72-B",
        "outputId": "e6cd046b-f262-4e15-b9f8-c4c29890558c"
      },
      "execution_count": null,
      "outputs": [
        {
          "output_type": "stream",
          "name": "stdout",
          "text": [
            "Tapenade 3.16 (develop) -  9 Feb 2023 10:28 - Java 11.0.17 Linux\n",
            "@@ TAPENADE_HOME=/content/tapenade_3.16/bin/..\n",
            "File: /content/tapenade_3.16/bin/../bin/fortranParserRun.sh: line 19: tapenade: command not found\n",
            "File: /content/tapenade_3.16/bin/../bin/fortranParserRun.sh: line 20: docker: command not found\n",
            "File: /content/tapenade_3.16/bin/../bin/fortranParserRun.sh: line 21: docker: command not found\n",
            "System: Parsing error in rosenbrock.f\n",
            "Command: No root unit to differentiate\n",
            "File: The code provided does not contain a top procedure\n",
            "@@ Created ./rosenbrock_d.msg\n",
            "job is completed (but doubts on parsing): total time 0.36 s\n"
          ]
        }
      ]
    },
    {
      "cell_type": "markdown",
      "metadata": {
        "id": "liT9q_JY8AVc"
      },
      "source": [
        "## Forward Mode AD\n",
        "\n",
        "This is the result of applying Tapenade in forward mode to the function above, choosing `a` as independent input and `b` as dependent output. If you modify the function, you will have to manually run Tapenade (through the command line or web interface), as this step is not integrated in this notebook."
      ]
    },
    {
      "cell_type": "code",
      "source": [
        "%%bash\n",
        "/content/tapenade_3.16/bin/tapenade -d fun.c"
      ],
      "metadata": {
        "colab": {
          "base_uri": "https://localhost:8080/"
        },
        "id": "ZhKHJgk4ftXA",
        "outputId": "972acac5-28e2-433f-aaae-1215432f93dd"
      },
      "execution_count": null,
      "outputs": [
        {
          "output_type": "stream",
          "name": "stdout",
          "text": [
            "Tapenade 3.16 (develop) -  9 Feb 2023 10:28 - Java 11.0.17 Linux\n",
            "@@ TAPENADE_HOME=/content/tapenade_3.16/bin/..\n",
            "Tool: (DD99) Warning: Some features of C are not yet supported\n",
            "Command: Took procedure fun as default differentiation root\n",
            "Diff-liveness analysis turned off\n",
            "@@ Created ./fun_d.c \n",
            "@@ Created ./fun_d.msg\n"
          ]
        }
      ]
    },
    {
      "cell_type": "code",
      "source": [
        "%%bash\n",
        "cat fun_d.c"
      ],
      "metadata": {
        "id": "Q7P_oCW1hB_k",
        "outputId": "cd19884e-4d8f-4b4a-bc96-9fce27297ab3",
        "colab": {
          "base_uri": "https://localhost:8080/"
        }
      },
      "execution_count": null,
      "outputs": [
        {
          "output_type": "stream",
          "name": "stdout",
          "text": [
            "/*        Generated by TAPENADE     (INRIA, Ecuador team)\n",
            "    Tapenade 3.16 (develop) -  9 Feb 2023 10:28\n",
            "*/\n",
            "/*\n",
            "  Differentiation of fun in forward (tangent) mode:\n",
            "   variations   of useful results: b[0:m-1]\n",
            "   with respect to varying inputs: a[0:n-1] b[0:m-1]\n",
            "   RW status of diff variables: a:(loc) a[0:n-1]:in b:(loc) b[0:m-1]:in-out\n",
            "   Plus diff mem management of: a:in b:in\n",
            "*/\n",
            "void fun_d(int n, float a[n], float ad[n], int m, float b[m], float bd[m]) {\n",
            "    float sum = 0.0;\n",
            "    float sumd;\n",
            "    sumd = 0.0;\n",
            "    for (int i = 0; i < n; ++i) {\n",
            "        sumd = sumd + 2*a[i]*ad[i];\n",
            "        sum += a[i]*a[i];\n",
            "    }\n",
            "    for (int i = 0; i < m; ++i) {\n",
            "        bd[i] = i*sumd;\n",
            "        b[i] = sum*i;\n",
            "    }\n",
            "}\n"
          ]
        }
      ]
    },
    {
      "cell_type": "code",
      "source": [
        "%%bash\n",
        "cat fun_d.msg"
      ],
      "metadata": {
        "colab": {
          "base_uri": "https://localhost:8080/"
        },
        "id": "yyydMtkwzLOG",
        "outputId": "8fb1aef8-a29f-49d4-9b68-6adbcbc98320"
      },
      "execution_count": null,
      "outputs": [
        {
          "output_type": "stream",
          "name": "stdout",
          "text": [
            "1 Tool: (DD99) Warning: Some features of C are not yet supported\n",
            "2 Command: Took procedure fun as default differentiation root\n"
          ]
        }
      ]
    },
    {
      "cell_type": "markdown",
      "metadata": {
        "id": "3pUyZBnA8S54"
      },
      "source": [
        "## Reverse Mode AD\n",
        "\n",
        "This is the result of applying Tapenade in reverse mode to the function above, again choosing `a` as independent input and `b` as dependent output. If you run Tapenade and it generates code that uses the AD run time library (for example, it calls `pushInteger4(...)` or similar functions), then you will need to obtain the ADFirstAidKit from the Tapenade website, which contains these functions. You may not be able to use this within this notebook."
      ]
    },
    {
      "cell_type": "code",
      "metadata": {
        "id": "buo9Iq_c6Jty",
        "colab": {
          "base_uri": "https://localhost:8080/"
        },
        "outputId": "0737aa04-33f2-46fc-ca38-3e53d5b4478e"
      },
      "source": [
        "%%bash\n",
        "/content/tapenade_3.16/bin/tapenade -b fun.c"
      ],
      "execution_count": null,
      "outputs": [
        {
          "output_type": "stream",
          "name": "stdout",
          "text": [
            "Tapenade 3.16 (develop) -  9 Feb 2023 10:28 - Java 11.0.17 Linux\n",
            "@@ TAPENADE_HOME=/content/tapenade_3.16/bin/..\n",
            "Tool: (DD99) Warning: Some features of C are not yet supported\n",
            "Command: Took procedure fun as default differentiation root\n",
            "@@ Created ./fun_b.c \n",
            "@@ Created ./fun_b.msg\n"
          ]
        }
      ]
    },
    {
      "cell_type": "code",
      "source": [
        "%%bash\n",
        "cat fun_b.c"
      ],
      "metadata": {
        "colab": {
          "base_uri": "https://localhost:8080/"
        },
        "id": "jn6AJbGQ5jw5",
        "outputId": "2b0835a3-34ee-4aaf-ba55-fbbebf420196"
      },
      "execution_count": null,
      "outputs": [
        {
          "output_type": "stream",
          "name": "stdout",
          "text": [
            "/*        Generated by TAPENADE     (INRIA, Ecuador team)\n",
            "    Tapenade 3.16 (develop) -  9 Feb 2023 10:28\n",
            "*/\n",
            "#include <adStack.h>\n",
            "\n",
            "/*\n",
            "  Differentiation of fun in reverse (adjoint) mode:\n",
            "   gradient     of useful results: a[0:n-1] b[0:m-1]\n",
            "   with respect to varying inputs: a[0:n-1] b[0:m-1]\n",
            "   RW status of diff variables: a:(loc) a[0:n-1]:incr b:(loc)\n",
            "                b[0:m-1]:in-out\n",
            "   Plus diff mem management of: a:in b:in\n",
            "*/\n",
            "void fun_b(int n, float a[n], float ab[n], int m, float b[m], float bb[m]) {\n",
            "    float sum = 0.0;\n",
            "    float sumb = 0.0;\n",
            "    sumb = 0.0;\n",
            "    for (int i = m-1; i > -1; --i) {\n",
            "        sumb = sumb + i*bb[i];\n",
            "        bb[i] = 0.0;\n",
            "    }\n",
            "    for (int i = n-1; i > -1; --i)\n",
            "        ab[i] = ab[i] + 2*a[i]*sumb;\n",
            "}\n"
          ]
        }
      ]
    },
    {
      "cell_type": "code",
      "source": [
        "%%bash\n",
        "cat fun_b.msg"
      ],
      "metadata": {
        "colab": {
          "base_uri": "https://localhost:8080/"
        },
        "outputId": "63895226-203f-42d3-b043-715940f30b1c",
        "id": "ziLqByKj5eEq"
      },
      "execution_count": null,
      "outputs": [
        {
          "output_type": "stream",
          "name": "stdout",
          "text": [
            "1 Tool: (DD99) Warning: Some features of C are not yet supported\n",
            "2 Command: Took procedure fun as default differentiation root\n"
          ]
        }
      ]
    },
    {
      "cell_type": "markdown",
      "metadata": {
        "id": "xsRFIT918yCm"
      },
      "source": [
        "## Driver\n",
        "\n",
        "This driver takes the problem sizes from the terminal input, sets up the input and output vectors, and calls the function and its derivatives while measuring the time taken. It assembles the full Jacobian matrix of the function by seeding with the full set of cartesian basis vectors. You probably do not need to modify the driver."
      ]
    },
    {
      "cell_type": "code",
      "metadata": {
        "id": "DIwIMzNy6mC2"
      },
      "source": [
        "%%writefile driver.c\n",
        "\n",
        "#include <time.h>\n",
        "#include <stdio.h>\n",
        "#include <stdlib.h>\n",
        "\n",
        "void fun(int n, float a[n], int m, float b[m]);\n",
        "void fun_d(int n, float a[n], float ad[n], int m, float b[m], float bd[m]);\n",
        "void fun_b(int n, float a[n], float ab[n], int m, float b[m], float bb[m]);\n",
        "\n",
        "int main(int argc, char** argv) {\n",
        "  /*\n",
        "  Problem setup. Get input/output size, allocate memory, etc.\n",
        "  */\n",
        "  if(argc < 3) {\n",
        "    printf(\"Usage: driver <num_inputs> <num_outputs>\");\n",
        "    return -1;\n",
        "  }\n",
        "  int n = atoi(argv[1]);\n",
        "  int m = atoi(argv[2]);\n",
        "  printf(\"===============================================\\n\");\n",
        "  printf(\"Running function with %d inputs and %d outputs.\\n\",n,m);\n",
        "  float* a = (float*)malloc(n*sizeof(float));\n",
        "  float* a_seed = (float*)malloc(n*sizeof(float));\n",
        "  for(int i=0; i<n; i++) {\n",
        "    a[i] = (float)i;\n",
        "    a_seed[i] = 0;\n",
        "  }\n",
        "  float* b = (float*)malloc(m*sizeof(float));\n",
        "  float* b_seed = (float*)malloc(m*sizeof(float));\n",
        "  for(int i=0; i<m; i++) {\n",
        "    b_seed[i] = 0;\n",
        "  }\n",
        "  float* J_fwd = (float*)malloc(n*m*sizeof(float));\n",
        "  float* J_rev = (float*)malloc(n*m*sizeof(float));\n",
        "  clock_t tic, toc;\n",
        "  double primaltime, difftime;\n",
        "\n",
        "  /*\n",
        "  Run the primal function and time it\n",
        "  */\n",
        "  tic = clock();\n",
        "  fun(n, a, m, b);\n",
        "  toc = clock() - tic;\n",
        "  primaltime = (double)toc / (double)CLOCKS_PER_SEC;\n",
        "  printf(\"primal time: %f\\n\", primaltime);\n",
        "\n",
        "  printf(\"\\nComputing one row/column of Jacobian:\\n\");\n",
        "  /*\n",
        "  Run the forward-mode once\n",
        "  */\n",
        "  tic = clock();\n",
        "  a_seed[0] = 1.0;\n",
        "  fun_d(n, a, a_seed, m, b, &J_fwd[0]);\n",
        "  a_seed[0] = 0.0;\n",
        "  toc = clock() - tic;\n",
        "  difftime = (double)toc / (double)CLOCKS_PER_SEC;\n",
        "  printf(\"forward Jv time: %f (factor: %f X)\\n\", difftime, difftime/primaltime);\n",
        "\n",
        "  /*\n",
        "  Run the reverse-mode once\n",
        "  */\n",
        "  tic = clock();\n",
        "  b_seed[0] = 1.0;\n",
        "  fun_b(n, a, &J_rev[0], m, b, b_seed);\n",
        "  b_seed[0] = 0.0;\n",
        "  toc = clock() - tic;\n",
        "  difftime = (double)toc / (double)CLOCKS_PER_SEC;\n",
        "  printf(\"reverse vJ time: %f (factor: %f X)\\n\", difftime, difftime/primaltime);\n",
        "\n",
        "  printf(\"\\nComputing the entire Jacobian:\\n\");\n",
        "  /*\n",
        "  Run the forward-mode n times (enough to obtain the entire Jacobian).\n",
        "  */\n",
        "  tic = clock();\n",
        "  for(int i=0; i<n; i++) {\n",
        "    a_seed[i] = 1.0;\n",
        "    fun_d(n, a, a_seed, m, b, &J_fwd[i*m]);\n",
        "    a_seed[i] = 0.0;\n",
        "  }\n",
        "  toc = clock() - tic;\n",
        "  difftime = (double)toc / (double)CLOCKS_PER_SEC;\n",
        "  printf(\"forward J time: %f (factor: %f X)\\n\", difftime, difftime/primaltime);\n",
        "\n",
        "  /*\n",
        "  Run the reverse-mode m times (enough to obtain the entire Jacobian).\n",
        "  */\n",
        "  tic = clock();\n",
        "  for(int i=0; i<m; i++) {\n",
        "    b_seed[i] = 1.0;\n",
        "    fun_b(n, a, &J_rev[i*n], m, b, b_seed);\n",
        "    b_seed[i] = 0.0;\n",
        "  }\n",
        "  toc = clock() - tic;\n",
        "  difftime = (double)toc / (double)CLOCKS_PER_SEC;\n",
        "  printf(\"reverse J time: %f (factor: %f X)\\n\", difftime, difftime/primaltime);\n",
        "\n",
        "  /*\n",
        "  Compare the computed Jacobians\n",
        "  */\n",
        "  for(int i=0; i<n; i++) {\n",
        "    for(int j=0; j<m; j++) {\n",
        "      if(J_fwd[i*m+j] != J_rev[j*n+i]) {\n",
        "        printf(\"Jacobian from fwd and rev does not match!: %f != %f\\n\", J_fwd[i*m+j], J_rev[j*n+i]);\n",
        "        return -1;\n",
        "      }\n",
        "    }\n",
        "  }\n",
        "  printf(\"Jacobian from fwd and rev matches!\\n\\n\");\n",
        "\n",
        "  free(a); free(b); free(a_seed); free(J_fwd); free(J_rev); free(b_seed);\n",
        "  return 0;\n",
        "}"
      ],
      "execution_count": null,
      "outputs": []
    },
    {
      "cell_type": "markdown",
      "metadata": {
        "id": "0xQ74Q-q3qO7"
      },
      "source": [
        "## Compile\n",
        "\n",
        "Compile our benchmark."
      ]
    },
    {
      "cell_type": "code",
      "metadata": {
        "id": "B9n10LP93rPs"
      },
      "source": [
        "%%script bash\n",
        "\n",
        "# if the AD runtime library is not yet loaded, download and compile it now.\n",
        "if [ ! -f ADFirstAidKit/adBuffer.h ]; then\n",
        "    wget tapenade.inria.fr:8080/tapenade/ADFirstAidKit.tar\n",
        "    tar vxf ADFirstAidKit.tar\n",
        "    (cd ADFirstAidKit && gcc -c -O3 -w adBuffer.c adStack.c adContext.c && ar -crs libAD.a *.o)\n",
        "fi\n",
        "\n",
        "# finally, install \n",
        "gcc -O3 -I./ADFirstAidKit -L./ADFirstAidKit fun.c fun_d.c fun_b.c driver.c -lAD -o perftest"
      ],
      "execution_count": null,
      "outputs": []
    },
    {
      "cell_type": "code",
      "source": [
        "%%script bash\n",
        "export TAPENADE_HOME=${PWD}/tapenade_3.16\n",
        "export PATH=${TAPENADE_HOME}/bin:${PATH}\n",
        "echo $PATH\n",
        "tapenade -v"
      ],
      "metadata": {
        "colab": {
          "base_uri": "https://localhost:8080/",
          "height": 567
        },
        "id": "5CKmtho9dvUB",
        "outputId": "e511e95c-720f-4fef-e55b-a299afc123bf"
      },
      "execution_count": null,
      "outputs": [
        {
          "output_type": "stream",
          "name": "stdout",
          "text": [
            "/content/tapenade_3.16/bin:/opt/bin:/usr/local/nvidia/bin:/usr/local/cuda/bin:/usr/local/sbin:/usr/local/bin:/usr/sbin:/usr/bin:/sbin:/bin:/tools/node/bin:/tools/google-cloud-sdk/bin\n",
            "Tapenade 3.16 (develop) -  9 Feb 2023 10:28 - Java 11.0.17 Linux\n",
            "@@ TAPENADE_HOME=/content/tapenade_3.16/bin/..\n",
            "Command: File not found: -v\n",
            "Command: No input files\n",
            "tapenade: Differentiation failed\n"
          ]
        },
        {
          "output_type": "error",
          "ename": "CalledProcessError",
          "evalue": "ignored",
          "traceback": [
            "\u001b[0;31m---------------------------------------------------------------------------\u001b[0m",
            "\u001b[0;31mCalledProcessError\u001b[0m                        Traceback (most recent call last)",
            "\u001b[0;32m<ipython-input-16-c28cbc4187db>\u001b[0m in \u001b[0;36m<module>\u001b[0;34m\u001b[0m\n\u001b[0;32m----> 1\u001b[0;31m \u001b[0mget_ipython\u001b[0m\u001b[0;34m(\u001b[0m\u001b[0;34m)\u001b[0m\u001b[0;34m.\u001b[0m\u001b[0mrun_cell_magic\u001b[0m\u001b[0;34m(\u001b[0m\u001b[0;34m'script'\u001b[0m\u001b[0;34m,\u001b[0m \u001b[0;34m'bash'\u001b[0m\u001b[0;34m,\u001b[0m \u001b[0;34m'export TAPENADE_HOME=${PWD}/tapenade_3.16\\nexport PATH=${TAPENADE_HOME}/bin:${PATH}\\necho $PATH\\ntapenade -v\\n'\u001b[0m\u001b[0;34m)\u001b[0m\u001b[0;34m\u001b[0m\u001b[0;34m\u001b[0m\u001b[0m\n\u001b[0m",
            "\u001b[0;32m/usr/local/lib/python3.8/dist-packages/IPython/core/interactiveshell.py\u001b[0m in \u001b[0;36mrun_cell_magic\u001b[0;34m(self, magic_name, line, cell)\u001b[0m\n\u001b[1;32m   2357\u001b[0m             \u001b[0;32mwith\u001b[0m \u001b[0mself\u001b[0m\u001b[0;34m.\u001b[0m\u001b[0mbuiltin_trap\u001b[0m\u001b[0;34m:\u001b[0m\u001b[0;34m\u001b[0m\u001b[0;34m\u001b[0m\u001b[0m\n\u001b[1;32m   2358\u001b[0m                 \u001b[0margs\u001b[0m \u001b[0;34m=\u001b[0m \u001b[0;34m(\u001b[0m\u001b[0mmagic_arg_s\u001b[0m\u001b[0;34m,\u001b[0m \u001b[0mcell\u001b[0m\u001b[0;34m)\u001b[0m\u001b[0;34m\u001b[0m\u001b[0;34m\u001b[0m\u001b[0m\n\u001b[0;32m-> 2359\u001b[0;31m                 \u001b[0mresult\u001b[0m \u001b[0;34m=\u001b[0m \u001b[0mfn\u001b[0m\u001b[0;34m(\u001b[0m\u001b[0;34m*\u001b[0m\u001b[0margs\u001b[0m\u001b[0;34m,\u001b[0m \u001b[0;34m**\u001b[0m\u001b[0mkwargs\u001b[0m\u001b[0;34m)\u001b[0m\u001b[0;34m\u001b[0m\u001b[0;34m\u001b[0m\u001b[0m\n\u001b[0m\u001b[1;32m   2360\u001b[0m             \u001b[0;32mreturn\u001b[0m \u001b[0mresult\u001b[0m\u001b[0;34m\u001b[0m\u001b[0;34m\u001b[0m\u001b[0m\n\u001b[1;32m   2361\u001b[0m \u001b[0;34m\u001b[0m\u001b[0m\n",
            "\u001b[0;32m<decorator-gen-103>\u001b[0m in \u001b[0;36mshebang\u001b[0;34m(self, line, cell)\u001b[0m\n",
            "\u001b[0;32m/usr/local/lib/python3.8/dist-packages/IPython/core/magic.py\u001b[0m in \u001b[0;36m<lambda>\u001b[0;34m(f, *a, **k)\u001b[0m\n\u001b[1;32m    185\u001b[0m     \u001b[0;31m# but it's overkill for just that one bit of state.\u001b[0m\u001b[0;34m\u001b[0m\u001b[0;34m\u001b[0m\u001b[0;34m\u001b[0m\u001b[0m\n\u001b[1;32m    186\u001b[0m     \u001b[0;32mdef\u001b[0m \u001b[0mmagic_deco\u001b[0m\u001b[0;34m(\u001b[0m\u001b[0marg\u001b[0m\u001b[0;34m)\u001b[0m\u001b[0;34m:\u001b[0m\u001b[0;34m\u001b[0m\u001b[0;34m\u001b[0m\u001b[0m\n\u001b[0;32m--> 187\u001b[0;31m         \u001b[0mcall\u001b[0m \u001b[0;34m=\u001b[0m \u001b[0;32mlambda\u001b[0m \u001b[0mf\u001b[0m\u001b[0;34m,\u001b[0m \u001b[0;34m*\u001b[0m\u001b[0ma\u001b[0m\u001b[0;34m,\u001b[0m \u001b[0;34m**\u001b[0m\u001b[0mk\u001b[0m\u001b[0;34m:\u001b[0m \u001b[0mf\u001b[0m\u001b[0;34m(\u001b[0m\u001b[0;34m*\u001b[0m\u001b[0ma\u001b[0m\u001b[0;34m,\u001b[0m \u001b[0;34m**\u001b[0m\u001b[0mk\u001b[0m\u001b[0;34m)\u001b[0m\u001b[0;34m\u001b[0m\u001b[0;34m\u001b[0m\u001b[0m\n\u001b[0m\u001b[1;32m    188\u001b[0m \u001b[0;34m\u001b[0m\u001b[0m\n\u001b[1;32m    189\u001b[0m         \u001b[0;32mif\u001b[0m \u001b[0mcallable\u001b[0m\u001b[0;34m(\u001b[0m\u001b[0marg\u001b[0m\u001b[0;34m)\u001b[0m\u001b[0;34m:\u001b[0m\u001b[0;34m\u001b[0m\u001b[0;34m\u001b[0m\u001b[0m\n",
            "\u001b[0;32m/usr/local/lib/python3.8/dist-packages/IPython/core/magics/script.py\u001b[0m in \u001b[0;36mshebang\u001b[0;34m(self, line, cell)\u001b[0m\n\u001b[1;32m    243\u001b[0m             \u001b[0msys\u001b[0m\u001b[0;34m.\u001b[0m\u001b[0mstderr\u001b[0m\u001b[0;34m.\u001b[0m\u001b[0mflush\u001b[0m\u001b[0;34m(\u001b[0m\u001b[0;34m)\u001b[0m\u001b[0;34m\u001b[0m\u001b[0;34m\u001b[0m\u001b[0m\n\u001b[1;32m    244\u001b[0m         \u001b[0;32mif\u001b[0m \u001b[0margs\u001b[0m\u001b[0;34m.\u001b[0m\u001b[0mraise_error\u001b[0m \u001b[0;32mand\u001b[0m \u001b[0mp\u001b[0m\u001b[0;34m.\u001b[0m\u001b[0mreturncode\u001b[0m\u001b[0;34m!=\u001b[0m\u001b[0;36m0\u001b[0m\u001b[0;34m:\u001b[0m\u001b[0;34m\u001b[0m\u001b[0;34m\u001b[0m\u001b[0m\n\u001b[0;32m--> 245\u001b[0;31m             \u001b[0;32mraise\u001b[0m \u001b[0mCalledProcessError\u001b[0m\u001b[0;34m(\u001b[0m\u001b[0mp\u001b[0m\u001b[0;34m.\u001b[0m\u001b[0mreturncode\u001b[0m\u001b[0;34m,\u001b[0m \u001b[0mcell\u001b[0m\u001b[0;34m,\u001b[0m \u001b[0moutput\u001b[0m\u001b[0;34m=\u001b[0m\u001b[0mout\u001b[0m\u001b[0;34m,\u001b[0m \u001b[0mstderr\u001b[0m\u001b[0;34m=\u001b[0m\u001b[0merr\u001b[0m\u001b[0;34m)\u001b[0m\u001b[0;34m\u001b[0m\u001b[0;34m\u001b[0m\u001b[0m\n\u001b[0m\u001b[1;32m    246\u001b[0m \u001b[0;34m\u001b[0m\u001b[0m\n\u001b[1;32m    247\u001b[0m     \u001b[0;32mdef\u001b[0m \u001b[0m_run_script\u001b[0m\u001b[0;34m(\u001b[0m\u001b[0mself\u001b[0m\u001b[0;34m,\u001b[0m \u001b[0mp\u001b[0m\u001b[0;34m,\u001b[0m \u001b[0mcell\u001b[0m\u001b[0;34m,\u001b[0m \u001b[0mto_close\u001b[0m\u001b[0;34m)\u001b[0m\u001b[0;34m:\u001b[0m\u001b[0;34m\u001b[0m\u001b[0;34m\u001b[0m\u001b[0m\n",
            "\u001b[0;31mCalledProcessError\u001b[0m: Command 'b'export TAPENADE_HOME=${PWD}/tapenade_3.16\\nexport PATH=${TAPENADE_HOME}/bin:${PATH}\\necho $PATH\\ntapenade -v\\n'' returned non-zero exit status 1."
          ]
        }
      ]
    },
    {
      "cell_type": "code",
      "source": [
        "%%script bash\n",
        "/content/tapenade_3.16/bin/tapenade -v"
      ],
      "metadata": {
        "colab": {
          "base_uri": "https://localhost:8080/",
          "height": 494
        },
        "id": "5-Nil0h-ePfo",
        "outputId": "83b9624e-aeb8-4c4d-e4c6-bee3692b8e94"
      },
      "execution_count": null,
      "outputs": [
        {
          "output_type": "stream",
          "name": "stdout",
          "text": [
            "Tapenade 3.16 (develop) -  9 Feb 2023 10:28 - Java 11.0.17 Linux\n",
            "@@ TAPENADE_HOME=/content/tapenade_3.16/bin/..\n",
            "Command: File not found: -v\n",
            "Command: No input files\n",
            "tapenade: Differentiation failed\n"
          ]
        },
        {
          "output_type": "error",
          "ename": "CalledProcessError",
          "evalue": "ignored",
          "traceback": [
            "\u001b[0;31m---------------------------------------------------------------------------\u001b[0m",
            "\u001b[0;31mCalledProcessError\u001b[0m                        Traceback (most recent call last)",
            "\u001b[0;32m<ipython-input-17-353dae0fc581>\u001b[0m in \u001b[0;36m<module>\u001b[0;34m\u001b[0m\n\u001b[0;32m----> 1\u001b[0;31m \u001b[0mget_ipython\u001b[0m\u001b[0;34m(\u001b[0m\u001b[0;34m)\u001b[0m\u001b[0;34m.\u001b[0m\u001b[0mrun_cell_magic\u001b[0m\u001b[0;34m(\u001b[0m\u001b[0;34m'script'\u001b[0m\u001b[0;34m,\u001b[0m \u001b[0;34m'bash'\u001b[0m\u001b[0;34m,\u001b[0m \u001b[0;34m'/content/tapenade_3.16/bin/tapenade -v\\n'\u001b[0m\u001b[0;34m)\u001b[0m\u001b[0;34m\u001b[0m\u001b[0;34m\u001b[0m\u001b[0m\n\u001b[0m",
            "\u001b[0;32m/usr/local/lib/python3.8/dist-packages/IPython/core/interactiveshell.py\u001b[0m in \u001b[0;36mrun_cell_magic\u001b[0;34m(self, magic_name, line, cell)\u001b[0m\n\u001b[1;32m   2357\u001b[0m             \u001b[0;32mwith\u001b[0m \u001b[0mself\u001b[0m\u001b[0;34m.\u001b[0m\u001b[0mbuiltin_trap\u001b[0m\u001b[0;34m:\u001b[0m\u001b[0;34m\u001b[0m\u001b[0;34m\u001b[0m\u001b[0m\n\u001b[1;32m   2358\u001b[0m                 \u001b[0margs\u001b[0m \u001b[0;34m=\u001b[0m \u001b[0;34m(\u001b[0m\u001b[0mmagic_arg_s\u001b[0m\u001b[0;34m,\u001b[0m \u001b[0mcell\u001b[0m\u001b[0;34m)\u001b[0m\u001b[0;34m\u001b[0m\u001b[0;34m\u001b[0m\u001b[0m\n\u001b[0;32m-> 2359\u001b[0;31m                 \u001b[0mresult\u001b[0m \u001b[0;34m=\u001b[0m \u001b[0mfn\u001b[0m\u001b[0;34m(\u001b[0m\u001b[0;34m*\u001b[0m\u001b[0margs\u001b[0m\u001b[0;34m,\u001b[0m \u001b[0;34m**\u001b[0m\u001b[0mkwargs\u001b[0m\u001b[0;34m)\u001b[0m\u001b[0;34m\u001b[0m\u001b[0;34m\u001b[0m\u001b[0m\n\u001b[0m\u001b[1;32m   2360\u001b[0m             \u001b[0;32mreturn\u001b[0m \u001b[0mresult\u001b[0m\u001b[0;34m\u001b[0m\u001b[0;34m\u001b[0m\u001b[0m\n\u001b[1;32m   2361\u001b[0m \u001b[0;34m\u001b[0m\u001b[0m\n",
            "\u001b[0;32m<decorator-gen-103>\u001b[0m in \u001b[0;36mshebang\u001b[0;34m(self, line, cell)\u001b[0m\n",
            "\u001b[0;32m/usr/local/lib/python3.8/dist-packages/IPython/core/magic.py\u001b[0m in \u001b[0;36m<lambda>\u001b[0;34m(f, *a, **k)\u001b[0m\n\u001b[1;32m    185\u001b[0m     \u001b[0;31m# but it's overkill for just that one bit of state.\u001b[0m\u001b[0;34m\u001b[0m\u001b[0;34m\u001b[0m\u001b[0;34m\u001b[0m\u001b[0m\n\u001b[1;32m    186\u001b[0m     \u001b[0;32mdef\u001b[0m \u001b[0mmagic_deco\u001b[0m\u001b[0;34m(\u001b[0m\u001b[0marg\u001b[0m\u001b[0;34m)\u001b[0m\u001b[0;34m:\u001b[0m\u001b[0;34m\u001b[0m\u001b[0;34m\u001b[0m\u001b[0m\n\u001b[0;32m--> 187\u001b[0;31m         \u001b[0mcall\u001b[0m \u001b[0;34m=\u001b[0m \u001b[0;32mlambda\u001b[0m \u001b[0mf\u001b[0m\u001b[0;34m,\u001b[0m \u001b[0;34m*\u001b[0m\u001b[0ma\u001b[0m\u001b[0;34m,\u001b[0m \u001b[0;34m**\u001b[0m\u001b[0mk\u001b[0m\u001b[0;34m:\u001b[0m \u001b[0mf\u001b[0m\u001b[0;34m(\u001b[0m\u001b[0;34m*\u001b[0m\u001b[0ma\u001b[0m\u001b[0;34m,\u001b[0m \u001b[0;34m**\u001b[0m\u001b[0mk\u001b[0m\u001b[0;34m)\u001b[0m\u001b[0;34m\u001b[0m\u001b[0;34m\u001b[0m\u001b[0m\n\u001b[0m\u001b[1;32m    188\u001b[0m \u001b[0;34m\u001b[0m\u001b[0m\n\u001b[1;32m    189\u001b[0m         \u001b[0;32mif\u001b[0m \u001b[0mcallable\u001b[0m\u001b[0;34m(\u001b[0m\u001b[0marg\u001b[0m\u001b[0;34m)\u001b[0m\u001b[0;34m:\u001b[0m\u001b[0;34m\u001b[0m\u001b[0;34m\u001b[0m\u001b[0m\n",
            "\u001b[0;32m/usr/local/lib/python3.8/dist-packages/IPython/core/magics/script.py\u001b[0m in \u001b[0;36mshebang\u001b[0;34m(self, line, cell)\u001b[0m\n\u001b[1;32m    243\u001b[0m             \u001b[0msys\u001b[0m\u001b[0;34m.\u001b[0m\u001b[0mstderr\u001b[0m\u001b[0;34m.\u001b[0m\u001b[0mflush\u001b[0m\u001b[0;34m(\u001b[0m\u001b[0;34m)\u001b[0m\u001b[0;34m\u001b[0m\u001b[0;34m\u001b[0m\u001b[0m\n\u001b[1;32m    244\u001b[0m         \u001b[0;32mif\u001b[0m \u001b[0margs\u001b[0m\u001b[0;34m.\u001b[0m\u001b[0mraise_error\u001b[0m \u001b[0;32mand\u001b[0m \u001b[0mp\u001b[0m\u001b[0;34m.\u001b[0m\u001b[0mreturncode\u001b[0m\u001b[0;34m!=\u001b[0m\u001b[0;36m0\u001b[0m\u001b[0;34m:\u001b[0m\u001b[0;34m\u001b[0m\u001b[0;34m\u001b[0m\u001b[0m\n\u001b[0;32m--> 245\u001b[0;31m             \u001b[0;32mraise\u001b[0m \u001b[0mCalledProcessError\u001b[0m\u001b[0;34m(\u001b[0m\u001b[0mp\u001b[0m\u001b[0;34m.\u001b[0m\u001b[0mreturncode\u001b[0m\u001b[0;34m,\u001b[0m \u001b[0mcell\u001b[0m\u001b[0;34m,\u001b[0m \u001b[0moutput\u001b[0m\u001b[0;34m=\u001b[0m\u001b[0mout\u001b[0m\u001b[0;34m,\u001b[0m \u001b[0mstderr\u001b[0m\u001b[0;34m=\u001b[0m\u001b[0merr\u001b[0m\u001b[0;34m)\u001b[0m\u001b[0;34m\u001b[0m\u001b[0;34m\u001b[0m\u001b[0m\n\u001b[0m\u001b[1;32m    246\u001b[0m \u001b[0;34m\u001b[0m\u001b[0m\n\u001b[1;32m    247\u001b[0m     \u001b[0;32mdef\u001b[0m \u001b[0m_run_script\u001b[0m\u001b[0;34m(\u001b[0m\u001b[0mself\u001b[0m\u001b[0;34m,\u001b[0m \u001b[0mp\u001b[0m\u001b[0;34m,\u001b[0m \u001b[0mcell\u001b[0m\u001b[0;34m,\u001b[0m \u001b[0mto_close\u001b[0m\u001b[0;34m)\u001b[0m\u001b[0;34m:\u001b[0m\u001b[0;34m\u001b[0m\u001b[0;34m\u001b[0m\u001b[0m\n",
            "\u001b[0;31mCalledProcessError\u001b[0m: Command 'b'/content/tapenade_3.16/bin/tapenade -v\\n'' returned non-zero exit status 1."
          ]
        }
      ]
    },
    {
      "cell_type": "markdown",
      "metadata": {
        "id": "03thh3fF9T2W"
      },
      "source": [
        "## Run\n",
        "\n",
        "Here we run the benchmark with just two settings: 1 input and 10000 outputs, and 10000 inputs and 1 output. This should highlight the differences between forward and reverse mode well."
      ]
    },
    {
      "cell_type": "code",
      "metadata": {
        "id": "OEq-jG8K6b8j"
      },
      "source": [
        "%%script bash\n",
        "\n",
        "./perftest 1 10000"
      ],
      "execution_count": null,
      "outputs": []
    },
    {
      "cell_type": "code",
      "metadata": {
        "id": "zyUe_5lbK6-Q"
      },
      "source": [
        "%%script bash\n",
        "\n",
        "./perftest 10000 1"
      ],
      "execution_count": null,
      "outputs": []
    },
    {
      "cell_type": "markdown",
      "metadata": {
        "id": "Hr7MWRtaEgZo"
      },
      "source": [
        "## Running the benchmark for a range of input and output sizes\n",
        "\n",
        "No need to understand this in detail. We loop over some input and output sizes, and filter the output of perftest to get only the overhead factors. We store all of them in `timings.txt`, which we will plot in the next field."
      ]
    },
    {
      "cell_type": "code",
      "metadata": {
        "id": "e9OVZnK4_zat"
      },
      "source": [
        "%%script bash\n",
        "echo \"\" > timings.txt\n",
        "for N_IN in 1 1000 2000 3000 4000 5000\n",
        "do\n",
        "  for N_OUT in 1 1000 2000 3000 4000 5000\n",
        "  do\n",
        "    OUTPUT=$(./perftest $N_IN $N_OUT)\n",
        "    TIME_FWD=$(grep \"forward J time\" <<< \"$OUTPUT\" | awk '{print $6}')\n",
        "    TIME_REV=$(grep \"reverse J time\" <<< \"$OUTPUT\" | awk '{print $6}')\n",
        "    echo \"$N_IN $N_OUT $TIME_FWD $TIME_REV\" >> timings.txt\n",
        "  done\n",
        "done\n",
        "\n",
        "wc -l timings.txt"
      ],
      "execution_count": null,
      "outputs": []
    },
    {
      "cell_type": "markdown",
      "metadata": {
        "id": "e4ouTnBoFSgu"
      },
      "source": [
        "## Plotting the time overhead factors\n",
        "We use Python for this. Read `timings.txt` and generate a plot."
      ]
    },
    {
      "cell_type": "code",
      "metadata": {
        "id": "ihBZ_jVYFbQJ"
      },
      "source": [
        "import numpy as np\n",
        "import matplotlib.pyplot as plt\n",
        "time_data = np.genfromtxt('timings.txt', delimiter=' ')\n",
        "\n",
        "n_vec = time_data[:,0]\n",
        "m_vec = time_data[:,1]\n",
        "fwd_time = time_data[:,2]\n",
        "rev_time = time_data[:,3]\n",
        "\n",
        "fig, (ax0,ax1) = plt.subplots(subplot_kw={\"projection\": \"3d\"}, nrows=1, ncols=2, figsize=(12,8), dpi= 100)\n",
        "for ax in (ax0,ax1):\n",
        "  ax.set_xlabel('#inputs')\n",
        "  ax.set_ylabel('#outputs')\n",
        "  ax.invert_yaxis()\n",
        "ax0.plot_trisurf(n_vec,m_vec,fwd_time)\n",
        "ax1.plot_trisurf(n_vec,m_vec,rev_time)\n",
        "ax0.title.set_text('forward mode overhead')\n",
        "ax1.title.set_text('reverse mode overhead')\n",
        "\n",
        "def plot_fun(ax, n_vals, m_vals, times, maxval, title=None):\n",
        "  # Plot the surface.\n",
        "  X, Y = np.meshgrid(list(n_vals.keys()), list(m_vals.keys()))\n",
        "  surf = ax.plot_surface(X, Y, times, cmap=cm.coolwarm,\n",
        "                        antialiased=True)\n",
        "  # Customize the z  axis.\n",
        "  ax.set_zlim(0, maxval*1.1)\n",
        "\n",
        "  coordsn = list(n_vals.keys())\n",
        "  ax.set_xticks(coordsn, [\"$4^{:d}$\".format(i) for i in coordsn])\n",
        "  \n",
        "  coordsm = list(m_vals.keys())\n",
        "  ax.set_yticks(coordsm, [\"$4^{:d}$\".format(i) for i in coordsm])\n",
        "  \n",
        "  ax.invert_yaxis()\n",
        "  \n",
        "  ax.title.set_text(title)\n",
        "  ax.set_xlabel('#inputs')\n",
        "  ax.set_ylabel('#outputs')"
      ],
      "execution_count": null,
      "outputs": []
    },
    {
      "cell_type": "markdown",
      "metadata": {
        "id": "cyPMH8R9Iepl"
      },
      "source": [
        "# Exercises\n",
        "\n",
        "Here are some ideas to try out:\n",
        "\n",
        "\n",
        "1.   Change the number of inputs and outputs and observe how the run times and overhead factors change for forward and reverse mode.\n",
        "2.   Re-run the same setting a few times. The notebook run times are a little noisy, probably you will get slightly different numbers each time.\n",
        "2.   Change the function `fun` to something you actually want to compute (make sure the function header stays the same if you want to leave the rest of the notebook as is). You will need to use Tapenade to obtain the derivative functions `fun_d` and `fun_b` yourself, as the notebook does not automate this step.\n",
        "\n"
      ]
    }
  ]
}