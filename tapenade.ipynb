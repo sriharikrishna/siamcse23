{
  "nbformat": 4,
  "nbformat_minor": 0,
  "metadata": {
    "colab": {
      "provenance": [],
      "include_colab_link": true
    },
    "kernelspec": {
      "name": "python3",
      "display_name": "Python 3"
    }
  },
  "cells": [
    {
      "cell_type": "markdown",
      "metadata": {
        "id": "view-in-github",
        "colab_type": "text"
      },
      "source": [
        "<a href=\"https://colab.research.google.com/github/sriharikrishna/siamcse23/blob/main/tapenade.ipynb\" target=\"_parent\"><img src=\"https://colab.research.google.com/assets/colab-badge.svg\" alt=\"Open In Colab\"/></a>"
      ]
    },
    {
      "cell_type": "markdown",
      "metadata": {
        "id": "VIP0_7_N7WHH"
      },
      "source": [
        "# Tapenade mini benchmark\n",
        "\n",
        "In this notebook we differentiate the Rosenbrock function with Tapenade in reverse mode.\n",
        "\n",
        "We use [Tapenade](`http://tapenade.inria.fr:8080`) and C for this. Apologies if the syntax highlighting for C is not perfect."
      ]
    },
    {
      "cell_type": "markdown",
      "source": [
        "Download Tapenade and unpack it"
      ],
      "metadata": {
        "id": "vozqRt9bU2iE"
      }
    },
    {
      "cell_type": "code",
      "source": [
        "%%script bash\n",
        "if [ ! -f ./tapenade_3.16/bin/tapenade ]; then\n",
        "    wget https://tapenade.gitlabpages.inria.fr/tapenade/distrib/tapenade_3.16.tar\n",
        "    tar -xvf tapenade_3.16.tar\n",
        "fi\n",
        "\n"
      ],
      "metadata": {
        "id": "cwfeLOmsS3J4"
      },
      "execution_count": null,
      "outputs": []
    },
    {
      "cell_type": "markdown",
      "source": [
        "## Primal Function\n",
        "\n",
        "\\begin{equation}\n",
        "F(x) = \\sum_{i=0}^{N-1}100(x_{i+1} - x_i^2)^2 + (1 - x_i)^2.\n",
        "\\end{equation}"
      ],
      "metadata": {
        "id": "LjUJVjFgDmJy"
      }
    },
    {
      "cell_type": "code",
      "source": [
        "%%writefile rosenbrock.c\n",
        "double rosen(double *x, const int n)\n",
        "{\n",
        "    /*\n",
        "     * Input: x array of values\n",
        "     * Output: Result of Rosenbrock's banana function\n",
        "     */\n",
        "    double sum = 0.0;\n",
        "    for (int i = 0; i < n - 1; i ++) {\n",
        "        double c1 = x[i + 1] - x[i] * x[i];\n",
        "        double c2 = 1.0 - x[i];\n",
        "        sum += 100.0 * c1 * c1 + c2 * c2;\n",
        "    }\n",
        "    return sum;\n",
        "}"
      ],
      "metadata": {
        "id": "FLTQpY6m8z4z"
      },
      "execution_count": null,
      "outputs": []
    },
    {
      "cell_type": "markdown",
      "source": [
        "## Primal Driver\n",
        "\n",
        "This driver takes the problem sizes from the terminal input, sets up the input and calls the function. You probably do not need to modify the driver.\n",
        "\n"
      ],
      "metadata": {
        "id": "2zpSYFFMDXTw"
      }
    },
    {
      "cell_type": "code",
      "source": [
        "%%writefile driver.c\n",
        "#include <stdio.h>\n",
        "#include <stdlib.h>\n",
        "\n",
        "double rosen(double *x, const int n);\n",
        "\n",
        "int main(int argc, char** argv) {\n",
        "  /*\n",
        "  Problem setup. Get input/output size, allocate memory, etc.\n",
        "  */\n",
        "  if(argc < 2) {\n",
        "    printf(\"Usage: driver <num_inputs>\");\n",
        "    return -1;\n",
        "  }\n",
        "  int n = atoi(argv[1]);\n",
        "  printf(\"===============================================\\n\");\n",
        "  printf(\"Running Rosenbrock function with %d inputs.\\n\",n);\n",
        "  double* x = (double*)malloc(n*sizeof(double));\n",
        "  for(int i=0; i<n; i++) {\n",
        "    x[i] = 0.5;\n",
        "  }\n",
        "  printf(\"The result of Rosenbrock's is %lf \\n\", rosen(x, n));\n",
        "  return 0;\n",
        "}"
      ],
      "metadata": {
        "id": "jKPoqO6f13Qj"
      },
      "execution_count": null,
      "outputs": []
    },
    {
      "cell_type": "code",
      "source": [
        "%%script bash\n",
        "gcc rosenbrock.c driver.c -o rosen"
      ],
      "metadata": {
        "id": "wgxIXyQ3u0hl"
      },
      "execution_count": 121,
      "outputs": []
    },
    {
      "cell_type": "code",
      "source": [
        "%%bash\n",
        "./rosen 10"
      ],
      "metadata": {
        "id": "wkCUXfR2_kdq"
      },
      "execution_count": null,
      "outputs": []
    },
    {
      "cell_type": "markdown",
      "metadata": {
        "id": "3pUyZBnA8S54"
      },
      "source": [
        "## Reverse Mode AD using Tapenade\n",
        "\n",
        "We will now apply Tapenade in reverse mode to the function above, again choosing `x` as independent input and `rosen` as dependent output. "
      ]
    },
    {
      "cell_type": "code",
      "source": [
        "%%bash\n",
        "/content/tapenade_3.16/bin/tapenade -b -head \"rosen(rosen)/(x)\" rosenbrock.c"
      ],
      "metadata": {
        "id": "F0PSPRir72-B"
      },
      "execution_count": null,
      "outputs": []
    },
    {
      "cell_type": "markdown",
      "source": [
        "We can now take a look at the output."
      ],
      "metadata": {
        "id": "74RXWkL1FKeT"
      }
    },
    {
      "cell_type": "code",
      "source": [
        "%%bash\n",
        "cat rosenbrock_b.c"
      ],
      "metadata": {
        "colab": {
          "base_uri": "https://localhost:8080/"
        },
        "id": "XwruijUHw5OM",
        "outputId": "e8812e99-50a0-4390-c618-dee5be7eb86e"
      },
      "execution_count": 108,
      "outputs": [
        {
          "output_type": "stream",
          "name": "stdout",
          "text": [
            "/*        Generated by TAPENADE     (INRIA, Ecuador team)\n",
            "    Tapenade 3.16 (develop) - 21 Feb 2023 17:28\n",
            "*/\n",
            "#include <adStack.h>\n",
            "\n",
            "/*\n",
            "  Differentiation of rosen in reverse (adjoint) mode:\n",
            "   gradient     of useful results: rosen\n",
            "   with respect to varying inputs: *x\n",
            "   RW status of diff variables: x:(loc) *x:out rosen:in-killed\n",
            "   Plus diff mem management of: x:in\n",
            "*/\n",
            "void rosen_b(double *x, double *xb, const int n, double rosenb) {\n",
            "    /*\n",
            "     * Input: x array of values\n",
            "     * Output: Result of Rosenbrock's banana function\n",
            "     */\n",
            "    double sum = 0.0;\n",
            "    double sumb = 0.0;\n",
            "    for (int i = 0; i < n-1; ++i) {\n",
            "        double c1 = x[i + 1] - x[i]*x[i];\n",
            "        double c2 = 1.0 - x[i];\n",
            "        double c1b;\n",
            "        double c2b;\n",
            "        pushReal8(c2);\n",
            "        pushReal8(c1);\n",
            "    }\n",
            "    sumb = rosenb;\n",
            "    *xb = 0.0;\n",
            "    for (int i = n-2; i > -1; --i) {\n",
            "        double c1;\n",
            "        double c1b = 0.0;\n",
            "        double c2;\n",
            "        double c2b = 0.0;\n",
            "        popReal8(&c1);\n",
            "        popReal8(&c2);\n",
            "        c1b = 2*c1*100.0*sumb;\n",
            "        c2b = 2*c2*sumb;\n",
            "        xb[i] = xb[i] - c2b - 2*x[i]*c1b;\n",
            "        xb[i + 1] = xb[i + 1] + c1b;\n",
            "    }\n",
            "}\n"
          ]
        }
      ]
    },
    {
      "cell_type": "markdown",
      "source": [
        "A file called `rosenbrock_b.msg` will contain warnings and error messages, if any."
      ],
      "metadata": {
        "id": "WotyRsZkFmgz"
      }
    },
    {
      "cell_type": "code",
      "source": [
        "%%bash\n",
        "cat rosenbrock_b.msg"
      ],
      "metadata": {
        "id": "77h2L667Fch4"
      },
      "execution_count": null,
      "outputs": []
    },
    {
      "cell_type": "markdown",
      "metadata": {
        "id": "xsRFIT918yCm"
      },
      "source": [
        "## Driver\n",
        "\n",
        "This driver takes the problem sizes from the terminal input, sets up the input vector, and calls the function and its derivatives. You probably do not need to modify the driver."
      ]
    },
    {
      "cell_type": "code",
      "metadata": {
        "id": "DIwIMzNy6mC2"
      },
      "source": [
        "%%writefile driver_deriv.c\n",
        "\n",
        "#include <stdio.h>\n",
        "#include <stdlib.h>\n",
        "\n",
        "double rosen(double *x, const int n);\n",
        "void rosen_b(double *x, double *xb, const int n, double rosenb);\n",
        "\n",
        "int main(int argc, char** argv) {\n",
        "  /*\n",
        "  Problem setup. Get input/output size, allocate memory, etc.\n",
        "  */\n",
        "  if(argc < 2) {\n",
        "    printf(\"Usage: driver <num_inputs>\");\n",
        "    return -1;\n",
        "  }\n",
        "  int n = atoi(argv[1]);\n",
        "  printf(\"===============================================\\n\");\n",
        "  printf(\"Running Rosenbrock function with %d inputs.\\n\",n);\n",
        "  double* x = (double*)malloc(n*sizeof(double));\n",
        "  for(int i=0; i<n; i++) {\n",
        "    x[i] = 0.5;\n",
        "  }\n",
        "\n",
        "  double *xb = (double*)malloc(n*sizeof(double));\n",
        "  double rosenb = 1.0;\n",
        "\n",
        "  /*\n",
        "  Run the primal function\n",
        "  */\n",
        "  double res_primal = rosen(x, n);\n",
        "  printf(\"The result of Rosenbrock's is %lf \\n\", res_primal);\n",
        "\n",
        "  /*\n",
        "  Run the reverse-mode\n",
        "  */\n",
        "  printf(\"\\nComputing the Derivatives:\\n\");\n",
        "  rosen_b(x, xb, n, rosenb);\n",
        "  \n",
        "  printf(\"The derivatives are:\" );\n",
        "  for(int i=0; i<n; i++){\n",
        "    printf(\" %lf \", xb[i]);\n",
        "  }\n",
        "  \n",
        "  free(x); free(xb); \n",
        "  return 0;\n",
        "}"
      ],
      "execution_count": null,
      "outputs": []
    },
    {
      "cell_type": "markdown",
      "metadata": {
        "id": "0xQ74Q-q3qO7"
      },
      "source": [
        "## Compile\n",
        "\n",
        "Compile our code."
      ]
    },
    {
      "cell_type": "code",
      "metadata": {
        "id": "B9n10LP93rPs"
      },
      "source": [
        "%%script bash\n",
        "\n",
        "## if the AD runtime library is not yet built, compile it now.\n",
        "if [ ! -f ADFirstAidKit/adStack.o ]; then\n",
        "    (cd ./tapenade_3.16/ADFirstAidKit && gcc -c -O3 -w adStack.c adContext.c && ar -crs libAD.a *.o)\n",
        "fi\n",
        "gcc -O3 -I./tapenade_3.16/ADFirstAidKit -L./tapenade_3.16/ADFirstAidKit rosenbrock.c rosenbrock_b.c driver_deriv.c -lAD -o rosen_deriv"
      ],
      "execution_count": 127,
      "outputs": []
    },
    {
      "cell_type": "markdown",
      "metadata": {
        "id": "03thh3fF9T2W"
      },
      "source": [
        "## Run\n",
        "\n",
        "Here we run the driver for computing the derivatives."
      ]
    },
    {
      "cell_type": "code",
      "metadata": {
        "id": "OEq-jG8K6b8j"
      },
      "source": [
        "%%script bash\n",
        "\n",
        "./rosen_deriv 10"
      ],
      "execution_count": null,
      "outputs": []
    },
    {
      "cell_type": "markdown",
      "metadata": {
        "id": "cyPMH8R9Iepl"
      },
      "source": [
        "# Exercise\n",
        "\n",
        "\n",
        "1.   Change the function `fun` to something you actually want to compute (make sure the function header stays the same if you want to leave the rest of the notebook as is). \n",
        "\n"
      ]
    }
  ]
}