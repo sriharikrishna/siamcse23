{
  "cells": [
    {
      "cell_type": "markdown",
      "metadata": {
        "id": "view-in-github",
        "colab_type": "text"
      },
      "source": [
        "<a href=\"https://colab.research.google.com/github/sriharikrishna/siamcse23/blob/main/pinn_tapenade.ipynb\" target=\"_parent\"><img src=\"https://colab.research.google.com/assets/colab-badge.svg\" alt=\"Open In Colab\"/></a>"
      ]
    },
    {
      "cell_type": "markdown",
      "metadata": {
        "id": "cnxrzFesM7P_"
      },
      "source": [
        "# Problem Statement\n",
        "\n",
        "We will use the PINN approach to solve the PDE\n",
        "\n",
        "$$\\frac{\\partial u}{\\partial x}=2\\cdot\\frac{\\partial u}{\\partial t}+u,$$\n",
        "\n",
        "with initial condition\n",
        "\n",
        "$$u(x,0)=6\\cdot e^{(-3x)}.$$\n",
        "\n",
        "The PDE has a known analytical solution, which we note here but will not explicitly use in the code:\n",
        "\n",
        "$$u(x,t) = 6e^{(-3x-2t)}$$\n",
        "\n",
        "## Desired Outcome\n",
        "\n",
        "We want to obtain a neural network that models $u$. In other words, the neural network should take $x$ and $t$ as input, and produce an output $u$ that is close to $u(x,t)$. However, we assume that $u(x,t)$ is not explicitly known. Instead, we define the residual function $f$ as\n",
        "\n",
        "\n",
        "$$f = \\frac{\\partial u}{\\partial x} - 2\\cdot\\frac{\\partial u}{\\partial t} - u,$$\n",
        "\n",
        "and train our neural network to minimize $f$ at randomly chosen points within a domain that is defined as $x\\in [0,2]$ and $t \\in [0,1]$ for this exercise."
      ]
    },
    {
      "cell_type": "markdown",
      "source": [
        "## Environment Setup\n",
        "\n",
        "Let us start by importing a few things:\n",
        "\n",
        " - PyTorch, to define our neural network.\n",
        " - Numpy, which will help us interface PyTorch and Ctypes\n",
        " - Ctypes, which we will use to call functions compiled from C"
      ],
      "metadata": {
        "id": "V0se8Bw2DgCY"
      }
    },
    {
      "cell_type": "code",
      "execution_count": 1,
      "metadata": {
        "id": "adP5z5DcM7QG"
      },
      "outputs": [],
      "source": [
        "import torch\n",
        "import torch.nn as nn\n",
        "from torch.autograd import Variable\n",
        "device = torch.device(\"cpu\")\n",
        "import numpy as np\n",
        "import ctypes\n",
        "from numpy.ctypeslib import ndpointer"
      ]
    },
    {
      "cell_type": "markdown",
      "source": [
        "## Neural Network setup\n",
        "\n",
        "Now we create a neural net in PyTorch. We (arbitrarily) choose to use a dense neural network with five layers for this tutorial. You could try to use other layer types or sizes, and/or change the number of layers. As always, this is a tradeoff between fidelity, training time, resource usage, etc.\n",
        "\n",
        "The input of the network is going to consist of two vectors $x$, $t$. These will be interpreted as a vector of pairs $(x_i,t_i)$, and the network will produce an output vector  whose entry $i$ is a prediction for $u(x_i, t_i)$."
      ],
      "metadata": {
        "id": "uOLXAp82EUFS"
      }
    },
    {
      "cell_type": "code",
      "execution_count": 2,
      "metadata": {
        "id": "bv3cXeO_M7QK"
      },
      "outputs": [],
      "source": [
        "class Net(nn.Module):\n",
        "    def __init__(self):\n",
        "        super(Net, self).__init__()\n",
        "        self.hidden_layer1 = nn.Linear(2,5)\n",
        "        self.hidden_layer2 = nn.Linear(5,5)\n",
        "        self.hidden_layer3 = nn.Linear(5,5)\n",
        "        self.hidden_layer4 = nn.Linear(5,5)\n",
        "        self.hidden_layer5 = nn.Linear(5,5)\n",
        "        self.output_layer = nn.Linear(5,1)\n",
        "\n",
        "    def forward(self, x, t):\n",
        "        inputs = torch.cat([x,t],axis=1) # combined two arrays of 1 columns each to one array of 2 columns\n",
        "        layer1_out = torch.sigmoid(self.hidden_layer1(inputs))\n",
        "        layer2_out = torch.sigmoid(self.hidden_layer2(layer1_out))\n",
        "        layer3_out = torch.sigmoid(self.hidden_layer3(layer2_out))\n",
        "        layer4_out = torch.sigmoid(self.hidden_layer4(layer3_out))\n",
        "        layer5_out = torch.sigmoid(self.hidden_layer5(layer4_out))\n",
        "        output = self.output_layer(layer5_out) ## For regression, no activation is used in output layer\n",
        "        return output"
      ]
    },
    {
      "cell_type": "markdown",
      "source": [
        "## Cost function\n",
        "\n",
        "We will train the neural net using a cost function that has two parts: Part A forces the function to be correct at $t=0$, and Part B enforces the PDE throughout the domain."
      ],
      "metadata": {
        "id": "7m2agYIFufnO"
      }
    },
    {
      "cell_type": "markdown",
      "source": [
        "## Part A: Initial condition\n",
        "\n",
        "Now we create a number of points (here, arbitrarily, 500) randomly spread along the $x$ coordinate, with $t=0$. For each of these points, we evaluate the initial condition\n",
        "$$u_0 = 6\\cdot e^{(-3*x)}.$$\n",
        "\n",
        "We then define a function that takes a given `net` as an input, evaluates it at our random coordinates, and computes the error between the computed result and the true initial condition using the MSE loss function.\n",
        "\n",
        "Later, we will train the neural network to satisfy the initial condition."
      ],
      "metadata": {
        "id": "t0Jznv8OJ3Sl"
      }
    },
    {
      "cell_type": "code",
      "source": [
        "mse = torch.nn.MSELoss()\n",
        "\n",
        "# Define the input coordinates and evaluate the function in Numpy\n",
        "x_bc = np.random.uniform(low=0.0, high=2.0, size=(500,1))\n",
        "t_bc = np.zeros((500,1))\n",
        "u_bc = 6*np.exp(-3*x_bc)\n",
        "# Convert to PyTorch tensors\n",
        "pt_x_bc = Variable(torch.from_numpy(x_bc).float(), requires_grad=False).to(device)\n",
        "pt_t_bc = Variable(torch.from_numpy(t_bc).float(), requires_grad=False).to(device)\n",
        "pt_u_bc = Variable(torch.from_numpy(u_bc).float(), requires_grad=False).to(device)\n",
        "\n",
        "# Evaluate net at the coordinates and compute MSE loss\n",
        "def part_A(net):\n",
        "    net_bc_out = net(pt_x_bc, pt_t_bc)\n",
        "    return mse(net_bc_out, pt_u_bc)"
      ],
      "metadata": {
        "id": "9Po6gAQ9J5l0"
      },
      "execution_count": 3,
      "outputs": []
    },
    {
      "cell_type": "markdown",
      "source": [
        "## Part B: Residual\n",
        "\n",
        "Now we define the residual function $f$. The function computes predictions for\n",
        "$$u,$$ $$u_x :=\\frac{\\partial u}{\\partial x},$$\n",
        "$$u_t :=\\frac{\\partial u}{\\partial t}$$\n",
        "by evaluating the neural network and its gradients computed with autograd, for a given $x$, $t$. With all these ingredients prepared, we compute the residual using the definition of our PDE:\n",
        "$$f = u_x - 2\\cdot u_t - u$$\n",
        "If our neural network was a perfect predictor for $u$, we would expect a zero residual for all inputs. Since the neural network is unlikely to be perfect though, we will get some non-zero result. We will train our neural network to minimize the residual throughout the domain.\n",
        "\n",
        "Note the argument `create_graph=True`, which will allow us to back-propagate through `f` including the calls to `autograd.grad` later, essentially computing second-order derivatives."
      ],
      "metadata": {
        "id": "K8azN52IFN4u"
      }
    },
    {
      "cell_type": "code",
      "source": [
        "def f(x, t, net):\n",
        "    u = net(x,t)\n",
        "    u_x = torch.autograd.grad(u.sum(), x, create_graph=True)[0]\n",
        "    u_t = torch.autograd.grad(u.sum(), t, create_graph=True)[0]\n",
        "    return u_x - 2*u_t - u"
      ],
      "metadata": {
        "id": "VnEWGUXIG2gM"
      },
      "execution_count": 9,
      "outputs": []
    },
    {
      "cell_type": "markdown",
      "source": [
        "Having defined `f`, we can use it to compute part B of the cost function. To this end, we evaluate `f` at $500$ randomly generated coordinates in our domain, and compute the mismatch between the obtained result and the expected result (which is zero).\n",
        "\n",
        "Note that we define `part_B` such that the function `f` can be swapped out for something else, because we will later replace it with a function defined in C and differentiated with Tapenade."
      ],
      "metadata": {
        "id": "qoI7__ZryMep"
      }
    },
    {
      "cell_type": "code",
      "source": [
        "def part_B(net, residual=f):\n",
        "    x_collocation = np.random.uniform(low=0.0, high=2.0, size=(500,1))\n",
        "    t_collocation = np.random.uniform(low=0.0, high=1.0, size=(500,1))\n",
        "    all_zeros = np.zeros((500,1))\n",
        "    \n",
        "    pt_x_collocation = Variable(torch.from_numpy(x_collocation).float(), requires_grad=True).to(device)\n",
        "    pt_t_collocation = Variable(torch.from_numpy(t_collocation).float(), requires_grad=True).to(device)\n",
        "    pt_all_zeros = Variable(torch.from_numpy(all_zeros).float(), requires_grad=False).to(device)\n",
        "    \n",
        "    f_out = residual(pt_x_collocation, pt_t_collocation, net) # output of f(x,t)\n",
        "    return mse(f_out, pt_all_zeros)"
      ],
      "metadata": {
        "id": "P4SH1J1MyJRy"
      },
      "execution_count": 10,
      "outputs": []
    },
    {
      "cell_type": "markdown",
      "source": [
        "## Solving the PDE\n",
        "\n",
        "Now "
      ],
      "metadata": {
        "id": "rroichmYLcM2"
      }
    },
    {
      "cell_type": "code",
      "execution_count": 17,
      "metadata": {
        "id": "6PcDHNcTM7QW",
        "outputId": "3eb325f6-697e-408e-cffe-a357c84c7ec4",
        "colab": {
          "base_uri": "https://localhost:8080/"
        }
      },
      "outputs": [
        {
          "output_type": "stream",
          "name": "stdout",
          "text": [
            "0 Traning Loss: tensor(2.9858)\n",
            "100 Traning Loss: tensor(2.9717)\n",
            "200 Traning Loss: tensor(2.9712)\n",
            "300 Traning Loss: tensor(2.9628)\n",
            "400 Traning Loss: tensor(2.8008)\n",
            "500 Traning Loss: tensor(1.7007)\n",
            "600 Traning Loss: tensor(0.8820)\n",
            "700 Traning Loss: tensor(0.4900)\n",
            "800 Traning Loss: tensor(0.3596)\n",
            "900 Traning Loss: tensor(0.2577)\n",
            "1000 Traning Loss: tensor(0.1917)\n",
            "1100 Traning Loss: tensor(0.1049)\n",
            "1200 Traning Loss: tensor(0.1084)\n",
            "1300 Traning Loss: tensor(0.1179)\n",
            "1400 Traning Loss: tensor(0.0658)\n",
            "1500 Traning Loss: tensor(0.1002)\n",
            "1600 Traning Loss: tensor(0.0639)\n",
            "1700 Traning Loss: tensor(0.0601)\n",
            "1800 Traning Loss: tensor(0.0365)\n",
            "1900 Traning Loss: tensor(0.0404)\n",
            "2000 Traning Loss: tensor(0.0417)\n",
            "2100 Traning Loss: tensor(0.0256)\n",
            "2200 Traning Loss: tensor(0.0321)\n",
            "2300 Traning Loss: tensor(0.0230)\n",
            "2400 Traning Loss: tensor(0.0284)\n",
            "2500 Traning Loss: tensor(0.0163)\n",
            "2600 Traning Loss: tensor(0.0238)\n",
            "2700 Traning Loss: tensor(0.0238)\n",
            "2800 Traning Loss: tensor(0.0270)\n",
            "2900 Traning Loss: tensor(0.0176)\n",
            "3000 Traning Loss: tensor(0.0128)\n",
            "3100 Traning Loss: tensor(0.0145)\n",
            "3200 Traning Loss: tensor(0.0165)\n",
            "3300 Traning Loss: tensor(0.0101)\n",
            "3400 Traning Loss: tensor(0.0134)\n",
            "3500 Traning Loss: tensor(0.0122)\n",
            "3600 Traning Loss: tensor(0.0121)\n",
            "3700 Traning Loss: tensor(0.0096)\n",
            "3800 Traning Loss: tensor(0.0085)\n",
            "3900 Traning Loss: tensor(0.0113)\n",
            "4000 Traning Loss: tensor(0.0102)\n",
            "4100 Traning Loss: tensor(0.0065)\n",
            "4200 Traning Loss: tensor(0.0071)\n",
            "4300 Traning Loss: tensor(0.0071)\n",
            "4400 Traning Loss: tensor(0.0093)\n",
            "4500 Traning Loss: tensor(0.0059)\n",
            "4600 Traning Loss: tensor(0.0056)\n",
            "4700 Traning Loss: tensor(0.0076)\n",
            "4800 Traning Loss: tensor(0.0069)\n",
            "4900 Traning Loss: tensor(0.0077)\n",
            "5000 Traning Loss: tensor(0.0059)\n",
            "5100 Traning Loss: tensor(0.0075)\n",
            "5200 Traning Loss: tensor(0.0064)\n",
            "5300 Traning Loss: tensor(0.0049)\n",
            "5400 Traning Loss: tensor(0.0052)\n",
            "5500 Traning Loss: tensor(0.0041)\n",
            "5600 Traning Loss: tensor(0.0041)\n",
            "5700 Traning Loss: tensor(0.0049)\n",
            "5800 Traning Loss: tensor(0.0060)\n",
            "5900 Traning Loss: tensor(0.0053)\n",
            "6000 Traning Loss: tensor(0.0044)\n",
            "6100 Traning Loss: tensor(0.0046)\n",
            "6200 Traning Loss: tensor(0.0037)\n",
            "6300 Traning Loss: tensor(0.0041)\n",
            "6400 Traning Loss: tensor(0.0030)\n",
            "6500 Traning Loss: tensor(0.0039)\n",
            "6600 Traning Loss: tensor(0.0029)\n",
            "6700 Traning Loss: tensor(0.0027)\n",
            "6800 Traning Loss: tensor(0.0025)\n",
            "6900 Traning Loss: tensor(0.0026)\n",
            "7000 Traning Loss: tensor(0.0033)\n",
            "7100 Traning Loss: tensor(0.0025)\n",
            "7200 Traning Loss: tensor(0.0021)\n",
            "7300 Traning Loss: tensor(0.0019)\n",
            "7400 Traning Loss: tensor(0.0019)\n",
            "7500 Traning Loss: tensor(0.0026)\n",
            "7600 Traning Loss: tensor(0.0017)\n",
            "7700 Traning Loss: tensor(0.0024)\n",
            "7800 Traning Loss: tensor(0.0014)\n",
            "7900 Traning Loss: tensor(0.0014)\n",
            "8000 Traning Loss: tensor(0.0023)\n",
            "8100 Traning Loss: tensor(0.0010)\n",
            "8200 Traning Loss: tensor(0.0012)\n",
            "8300 Traning Loss: tensor(0.0008)\n",
            "8400 Traning Loss: tensor(0.0006)\n",
            "8500 Traning Loss: tensor(0.0006)\n",
            "8600 Traning Loss: tensor(0.0006)\n",
            "8700 Traning Loss: tensor(0.0004)\n",
            "8800 Traning Loss: tensor(0.0004)\n",
            "8900 Traning Loss: tensor(0.0004)\n",
            "9000 Traning Loss: tensor(0.0003)\n",
            "9100 Traning Loss: tensor(0.0003)\n",
            "9200 Traning Loss: tensor(0.0003)\n",
            "9300 Traning Loss: tensor(0.0003)\n",
            "9400 Traning Loss: tensor(0.0004)\n",
            "9500 Traning Loss: tensor(0.0003)\n",
            "9600 Traning Loss: tensor(0.0003)\n",
            "9700 Traning Loss: tensor(0.0003)\n",
            "9800 Traning Loss: tensor(0.0003)\n",
            "9900 Traning Loss: tensor(0.0002)\n"
          ]
        },
        {
          "output_type": "execute_result",
          "data": {
            "text/plain": [
              "Net(\n",
              "  (hidden_layer1): Linear(in_features=2, out_features=5, bias=True)\n",
              "  (hidden_layer2): Linear(in_features=5, out_features=5, bias=True)\n",
              "  (hidden_layer3): Linear(in_features=5, out_features=5, bias=True)\n",
              "  (hidden_layer4): Linear(in_features=5, out_features=5, bias=True)\n",
              "  (hidden_layer5): Linear(in_features=5, out_features=5, bias=True)\n",
              "  (output_layer): Linear(in_features=5, out_features=1, bias=True)\n",
              ")"
            ]
          },
          "metadata": {},
          "execution_count": 17
        }
      ],
      "source": [
        "def train_net(f=f):\n",
        "    net = Net()\n",
        "    net = net.to(device)\n",
        "    optimizer = torch.optim.Adam(net.parameters())\n",
        "    iterations = 10000\n",
        "    for epoch in range(iterations):\n",
        "        optimizer.zero_grad() # reset gradients\n",
        "        mse_u = part_A(net)   # Loss based on initial conditions\n",
        "        mse_f = part_B(net,f) # Loss based on PDE\n",
        "        loss = mse_u + mse_f  # Combined loss\n",
        "        \n",
        "        loss.backward()  # Back-prop\n",
        "        optimizer.step() # Gradient-based optimization step\n",
        "        \n",
        "        if(epoch%100==0):\n",
        "            with torch.autograd.no_grad():\n",
        "                print(epoch,\"Traning Loss:\",loss.data)\n",
        "    return net\n",
        "\n",
        "net = train_net()"
      ]
    },
    {
      "cell_type": "markdown",
      "source": [
        "# Plot the result\n",
        "\n",
        "Now that the neural net is trained, we can evaluate it at regularly spaced points to create a nice plot.\n",
        "The gory details of using matplotlib are inside a function, so we can re-use it later after training other neural nets."
      ],
      "metadata": {
        "id": "M6zazero2v1d"
      }
    },
    {
      "cell_type": "code",
      "execution_count": 16,
      "metadata": {
        "id": "S0aqQMD5M7QX",
        "outputId": "2322b81a-69ac-4905-c610-545354123f88",
        "colab": {
          "base_uri": "https://localhost:8080/",
          "height": 248
        }
      },
      "outputs": [
        {
          "output_type": "display_data",
          "data": {
            "text/plain": [
              "<Figure size 432x288 with 2 Axes>"
            ],
            "image/png": "[encoded data removed]"
          },
          "metadata": {
            "needs_background": "light"
          }
        }
      ],
      "source": [
        "import matplotlib.pyplot as plt\n",
        "from matplotlib import cm\n",
        "from matplotlib.ticker import LinearLocator, FormatStrFormatter\n",
        "\n",
        "def plotnet(net):\n",
        "    fig = plt.figure()\n",
        "    ax = fig.add_subplot(projection='3d')\n",
        "    x=np.arange(0,2,0.02)\n",
        "    t=np.arange(0,1,0.02)\n",
        "    ms_x, ms_t = np.meshgrid(x, t)\n",
        "    x = np.ravel(ms_x).reshape(-1,1)\n",
        "    t = np.ravel(ms_t).reshape(-1,1)\n",
        "    pt_x = Variable(torch.from_numpy(x).float(), requires_grad=True).to(device)\n",
        "    pt_t = Variable(torch.from_numpy(t).float(), requires_grad=True).to(device)\n",
        "    pt_u = net(pt_x,pt_t)\n",
        "    u=pt_u.data.cpu().numpy()\n",
        "    ms_u = u.reshape(ms_x.shape)\n",
        "    surf = ax.plot_surface(ms_x,ms_t,ms_u, cmap=cm.coolwarm,linewidth=0, antialiased=False)\n",
        "    ax.zaxis.set_major_locator(LinearLocator(10))\n",
        "    ax.zaxis.set_major_formatter(FormatStrFormatter('%.02f'))\n",
        "    fig.colorbar(surf, shrink=0.5, aspect=5)\n",
        "    plt.show()\n",
        "\n",
        "plotnet(net)"
      ]
    },
    {
      "cell_type": "markdown",
      "source": [
        "# Defining a custom function\n",
        "\n",
        "Now we have set up a PINN and trained it. All components of the network and the loss function were defined within PyTorch, and used the built-in backpropagation. What if we want to use our own function and our own automatic differentiation?\n",
        "\n",
        "Let's take it step by step. First, we swap out the PDE evaluation in part B of our cost function for something with custom gradients."
      ],
      "metadata": {
        "id": "oqCbsSGx4Qbc"
      }
    },
    {
      "cell_type": "code",
      "execution_count": 18,
      "metadata": {
        "id": "ShAI5aCdM7QO"
      },
      "outputs": [],
      "source": [
        "class CustomFunc(torch.autograd.Function):\n",
        "    @staticmethod\n",
        "    def forward(ctx, u_x, u_t, u):\n",
        "        #ctx.save_for_backward(fwdinput)\n",
        "        res = u_x - 2*u_t - u\n",
        "        return res\n",
        "\n",
        "    @staticmethod\n",
        "    def backward(ctx, grad_output):\n",
        "        #fwdinput, = ctx.saved_tensors\n",
        "        grad_u = -grad_output\n",
        "        grad_u_t = -2*grad_output\n",
        "        grad_u_x = grad_output\n",
        "        return grad_u_x, grad_u_t, grad_u\n",
        "\n",
        "customfunc = CustomFunc.apply"
      ]
    },
    {
      "cell_type": "markdown",
      "source": [
        "You probably saw the commented-out lines about `save_for_backward` and `saved_tensors`. This allows us to store and retrieve intermediate results if the gradients depend on them. Right now we don't need it, because our function is linear (because the PDE is linear).\n",
        "\n",
        "Also, note that the gradients here are manually implemented (no automatic differentiation)! Let's see if we did it correctly by using PyTorch's built-in gradient check routine. Try changing a constant or something else inside the custom backwards pass and see if `gradcheck` fails."
      ],
      "metadata": {
        "id": "7R9LTVv75S32"
      }
    },
    {
      "cell_type": "code",
      "execution_count": 19,
      "metadata": {
        "id": "qQ_Ugc3aM7QO",
        "outputId": "76da91e9-1b60-4b76-e088-3525e5f5e726",
        "colab": {
          "base_uri": "https://localhost:8080/"
        }
      },
      "outputs": [
        {
          "output_type": "stream",
          "name": "stdout",
          "text": [
            "True\n"
          ]
        }
      ],
      "source": [
        "from torch.autograd import gradcheck\n",
        "u_x = torch.randn(500,1,dtype=torch.double,requires_grad=True)\n",
        "u_t = torch.randn(500,1,dtype=torch.double,requires_grad=True)\n",
        "u = torch.randn(500,1,dtype=torch.double,requires_grad=True)\n",
        "test = gradcheck(customfunc, (u_x, u_t, u), eps=1e-6, atol=1e-4)\n",
        "print(test)"
      ]
    },
    {
      "cell_type": "markdown",
      "source": [
        "We use the custom PDE to create a new version of `f` that calls it, called `f_custom`."
      ],
      "metadata": {
        "id": "rs4bALlW55PU"
      }
    },
    {
      "cell_type": "code",
      "source": [
        "def f_custom(x, t, net):\n",
        "    u = net(x,t)\n",
        "    u_x = torch.autograd.grad(u.sum(), x, create_graph=True)[0]\n",
        "    u_t = torch.autograd.grad(u.sum(), t, create_graph=True)[0]\n",
        "    return customfunc(u_x, u_t, u)"
      ],
      "metadata": {
        "id": "ceVje7QO6CPA"
      },
      "execution_count": 20,
      "outputs": []
    },
    {
      "cell_type": "markdown",
      "source": [
        "Let's try and train the neural net using this new function instead of the original `f`."
      ],
      "metadata": {
        "id": "EgMluecQ7Gb6"
      }
    },
    {
      "cell_type": "code",
      "source": [
        "net_custom = train_net(f=f_custom)\n",
        "plotnet(net_custom)"
      ],
      "metadata": {
        "id": "7OKb2ss87L6Z",
        "outputId": "f4a5f806-80d7-43b4-cb4e-38989275fc5f",
        "colab": {
          "base_uri": "https://localhost:8080/",
          "height": 1000
        }
      },
      "execution_count": 22,
      "outputs": [
        {
          "output_type": "stream",
          "name": "stdout",
          "text": [
            "0 Traning Loss: tensor(3.2758)\n",
            "100 Traning Loss: tensor(2.9763)\n",
            "200 Traning Loss: tensor(2.9713)\n",
            "300 Traning Loss: tensor(2.9701)\n",
            "400 Traning Loss: tensor(2.9635)\n",
            "500 Traning Loss: tensor(2.9253)\n",
            "600 Traning Loss: tensor(2.7243)\n",
            "700 Traning Loss: tensor(2.3734)\n",
            "800 Traning Loss: tensor(2.0040)\n",
            "900 Traning Loss: tensor(1.5209)\n",
            "1000 Traning Loss: tensor(1.0663)\n",
            "1100 Traning Loss: tensor(0.7158)\n",
            "1200 Traning Loss: tensor(0.5108)\n",
            "1300 Traning Loss: tensor(0.4208)\n",
            "1400 Traning Loss: tensor(0.3295)\n",
            "1500 Traning Loss: tensor(0.2835)\n",
            "1600 Traning Loss: tensor(0.1645)\n",
            "1700 Traning Loss: tensor(0.1790)\n",
            "1800 Traning Loss: tensor(0.1473)\n",
            "1900 Traning Loss: tensor(0.1290)\n",
            "2000 Traning Loss: tensor(0.0952)\n",
            "2100 Traning Loss: tensor(0.1266)\n",
            "2200 Traning Loss: tensor(0.0758)\n",
            "2300 Traning Loss: tensor(0.0501)\n",
            "2400 Traning Loss: tensor(0.0621)\n",
            "2500 Traning Loss: tensor(0.0717)\n",
            "2600 Traning Loss: tensor(0.0752)\n",
            "2700 Traning Loss: tensor(0.0266)\n",
            "2800 Traning Loss: tensor(0.0373)\n",
            "2900 Traning Loss: tensor(0.0273)\n",
            "3000 Traning Loss: tensor(0.0221)\n",
            "3100 Traning Loss: tensor(0.0155)\n",
            "3200 Traning Loss: tensor(0.0181)\n",
            "3300 Traning Loss: tensor(0.0260)\n",
            "3400 Traning Loss: tensor(0.0143)\n",
            "3500 Traning Loss: tensor(0.0119)\n",
            "3600 Traning Loss: tensor(0.0194)\n",
            "3700 Traning Loss: tensor(0.0102)\n",
            "3800 Traning Loss: tensor(0.0127)\n",
            "3900 Traning Loss: tensor(0.0128)\n",
            "4000 Traning Loss: tensor(0.0108)\n",
            "4100 Traning Loss: tensor(0.0107)\n",
            "4200 Traning Loss: tensor(0.0070)\n",
            "4300 Traning Loss: tensor(0.0098)\n",
            "4400 Traning Loss: tensor(0.0106)\n",
            "4500 Traning Loss: tensor(0.0063)\n",
            "4600 Traning Loss: tensor(0.0057)\n",
            "4700 Traning Loss: tensor(0.0059)\n",
            "4800 Traning Loss: tensor(0.0051)\n",
            "4900 Traning Loss: tensor(0.0095)\n",
            "5000 Traning Loss: tensor(0.0075)\n",
            "5100 Traning Loss: tensor(0.0057)\n",
            "5200 Traning Loss: tensor(0.0036)\n",
            "5300 Traning Loss: tensor(0.0038)\n",
            "5400 Traning Loss: tensor(0.0033)\n",
            "5500 Traning Loss: tensor(0.0031)\n",
            "5600 Traning Loss: tensor(0.0034)\n",
            "5700 Traning Loss: tensor(0.0025)\n",
            "5800 Traning Loss: tensor(0.0019)\n",
            "5900 Traning Loss: tensor(0.0040)\n",
            "6000 Traning Loss: tensor(0.0016)\n",
            "6100 Traning Loss: tensor(0.0013)\n",
            "6200 Traning Loss: tensor(0.0010)\n",
            "6300 Traning Loss: tensor(0.0019)\n",
            "6400 Traning Loss: tensor(0.0008)\n",
            "6500 Traning Loss: tensor(0.0008)\n",
            "6600 Traning Loss: tensor(0.0007)\n",
            "6700 Traning Loss: tensor(0.0005)\n",
            "6800 Traning Loss: tensor(0.0006)\n",
            "6900 Traning Loss: tensor(0.0006)\n",
            "7000 Traning Loss: tensor(0.0004)\n",
            "7100 Traning Loss: tensor(0.0004)\n",
            "7200 Traning Loss: tensor(0.0006)\n",
            "7300 Traning Loss: tensor(0.0003)\n",
            "7400 Traning Loss: tensor(0.0003)\n",
            "7500 Traning Loss: tensor(0.0004)\n",
            "7600 Traning Loss: tensor(0.0008)\n",
            "7700 Traning Loss: tensor(0.0003)\n",
            "7800 Traning Loss: tensor(0.0003)\n",
            "7900 Traning Loss: tensor(0.0003)\n",
            "8000 Traning Loss: tensor(0.0016)\n",
            "8100 Traning Loss: tensor(0.0003)\n",
            "8200 Traning Loss: tensor(0.0004)\n",
            "8300 Traning Loss: tensor(0.0003)\n",
            "8400 Traning Loss: tensor(0.0003)\n",
            "8500 Traning Loss: tensor(0.0003)\n",
            "8600 Traning Loss: tensor(0.0003)\n",
            "8700 Traning Loss: tensor(0.0003)\n",
            "8800 Traning Loss: tensor(0.0003)\n",
            "8900 Traning Loss: tensor(0.0003)\n",
            "9000 Traning Loss: tensor(0.0003)\n",
            "9100 Traning Loss: tensor(0.0002)\n",
            "9200 Traning Loss: tensor(0.0003)\n",
            "9300 Traning Loss: tensor(0.0003)\n",
            "9400 Traning Loss: tensor(0.0007)\n",
            "9500 Traning Loss: tensor(0.0004)\n",
            "9600 Traning Loss: tensor(0.0003)\n",
            "9700 Traning Loss: tensor(0.0003)\n",
            "9800 Traning Loss: tensor(0.0003)\n",
            "9900 Traning Loss: tensor(0.0005)\n"
          ]
        },
        {
          "output_type": "display_data",
          "data": {
            "text/plain": [
              "<Figure size 432x288 with 2 Axes>"
            ],
            "image/png": "[encoded data removed]"
          },
          "metadata": {
            "needs_background": "light"
          }
        }
      ]
    },
    {
      "cell_type": "markdown",
      "source": [
        "## Custom function in C with Tapenade\n",
        "\n",
        "Now for the exciting part. Let's swap out the custom function for something we wrote in C and differentiated with Tapenade. First, we implement the PDE in C and save it to a file."
      ],
      "metadata": {
        "id": "cEgS0VhA8HKp"
      }
    },
    {
      "cell_type": "code",
      "source": [
        "%%writefile ctest.c\n",
        "void cfun(float* u_x, float* u_t, float* u, float* res, int size) {\n",
        "    for(int i=0; i<size; i++) {\n",
        "        res[i] = u_x[i] - 2.0f*u_t[i] - u[i];\n",
        "    }\n",
        "}"
      ],
      "metadata": {
        "id": "bLwmmm388ekz",
        "outputId": "c5bfdb4b-57ad-4108-b35c-fb7aef4b0027",
        "colab": {
          "base_uri": "https://localhost:8080/"
        }
      },
      "execution_count": 26,
      "outputs": [
        {
          "output_type": "stream",
          "name": "stdout",
          "text": [
            "Overwriting ctest.c\n"
          ]
        }
      ]
    },
    {
      "cell_type": "markdown",
      "source": [
        "As we've seen before, we need to download and unpack Tapenade so that we can run differentiation."
      ],
      "metadata": {
        "id": "26hAdOUX82hV"
      }
    },
    {
      "cell_type": "code",
      "source": [
        "%%script bash\n",
        "if [ ! -f tapenade_3.16/LICENSE.html ]; then\n",
        "wget https://tapenade.gitlabpages.inria.fr/tapenade/distrib/tapenade_3.16.tar\n",
        "tar -xvf tapenade_3.16.tar\n",
        "fi\n",
        "\n",
        "\n",
        "# if the AD runtime library is not yet loaded, download and compile it now.\n",
        "if [ ! -f ADFirstAidKit/adBuffer.h ]; then\n",
        "    wget tapenade.inria.fr:8080/tapenade/ADFirstAidKit.tar\n",
        "    tar vxf ADFirstAidKit.tar\n",
        "    (cd ADFirstAidKit && gcc -c -O3 -w adStack.c && ar -crs libAD.a *.o)\n",
        "fi"
      ],
      "metadata": {
        "id": "DOqiL8gr8-Pp",
        "outputId": "9fa732c8-f865-4c75-b802-5ee48c44fd43",
        "colab": {
          "base_uri": "https://localhost:8080/"
        }
      },
      "execution_count": 30,
      "outputs": [
        {
          "output_type": "stream",
          "name": "stdout",
          "text": [
            "ADFirstAidKit/\n",
            "ADFirstAidKit/PUSHPOPGeneralLib\n",
            "ADFirstAidKit/adContext.h\n",
            "ADFirstAidKit/adContext2.h\n",
            "ADFirstAidKit/PUSHPOPDiff.f\n",
            "ADFirstAidKit/testMemSizec.c\n",
            "ADFirstAidKit/adProfile.c\n",
            "ADFirstAidKit/admm.h\n",
            "ADFirstAidKit/adComplex.h\n",
            "ADFirstAidKit/mpich/\n",
            "ADFirstAidKit/mpich/include\n",
            "ADFirstAidKit/adContextCPX.c\n",
            "ADFirstAidKit/OLDadBuffer.c\n",
            "ADFirstAidKit/ampi/\n",
            "ADFirstAidKit/ampi/libCommon/\n",
            "ADFirstAidKit/ampi/libCommon/st.h\n",
            "ADFirstAidKit/ampi/libCommon/modified.h\n",
            "ADFirstAidKit/ampi/ampi.h\n",
            "ADFirstAidKit/ampi/tape/\n",
            "ADFirstAidKit/ampi/tape/support.h\n",
            "ADFirstAidKit/ampi/userIF/\n",
            "ADFirstAidKit/ampi/userIF/window.h\n",
            "ADFirstAidKit/ampi/userIF/nt.h\n",
            "ADFirstAidKit/ampi/userIF/request.h\n",
            "ADFirstAidKit/ampi/userIF/activity.h\n",
            "ADFirstAidKit/ampi/userIF/libConfig.h\n",
            "ADFirstAidKit/ampi/userIF/passThrough.h\n",
            "ADFirstAidKit/ampi/userIF/st.h\n",
            "ADFirstAidKit/ampi/userIF/pairedWith.h\n",
            "ADFirstAidKit/ampi/userIF/modified.h\n",
            "ADFirstAidKit/ampi/bookkeeping/\n",
            "ADFirstAidKit/ampi/bookkeeping/support.h\n",
            "ADFirstAidKit/ampi/adTool/\n",
            "ADFirstAidKit/ampi/adTool/support.h\n",
            "ADFirstAidKit/ampi/ampif.h\n",
            "ADFirstAidKit/admm_tapenade_interface.f90\n",
            "ADFirstAidKit/adBinomial.h\n",
            "ADFirstAidKit/OLDadBuffer.h\n",
            "ADFirstAidKit/adStack.h\n",
            "ADFirstAidKit/adContext.c\n",
            "ADFirstAidKit/adBinomial.c\n",
            "ADFirstAidKit/testpushpop.f90\n",
            "ADFirstAidKit/admm.c\n",
            "ADFirstAidKit/validityTest.f\n",
            "ADFirstAidKit/adDebug.h\n",
            "ADFirstAidKit/adOMP.c\n",
            "ADFirstAidKit/contextAD.sh\n",
            "ADFirstAidKit/testMemSizef.f\n",
            "ADFirstAidKit/adOMP.h\n",
            "ADFirstAidKit/openmpi/\n",
            "ADFirstAidKit/openmpi/include\n",
            "ADFirstAidKit/OLDadBuffer.f\n",
            "ADFirstAidKit/testpushpop.sh\n",
            "ADFirstAidKit/adProfile.h\n",
            "ADFirstAidKit/OLDadStack.h\n",
            "ADFirstAidKit/adDebug.c\n",
            "ADFirstAidKit/README.md\n",
            "ADFirstAidKit/adContextMPI.c\n",
            "ADFirstAidKit/ampiSupport.c\n",
            "ADFirstAidKit/adContextCPX.h\n",
            "ADFirstAidKit/adContext2.c\n",
            "ADFirstAidKit/adDebugMPI.c\n",
            "ADFirstAidKit/OLDadStack.c\n",
            "ADFirstAidKit/fortranSupport.F\n",
            "ADFirstAidKit/adStack.c\n"
          ]
        },
        {
          "output_type": "stream",
          "name": "stderr",
          "text": [
            "--2023-02-16 02:07:51--  http://tapenade.inria.fr:8080/tapenade/ADFirstAidKit.tar\n",
            "Resolving tapenade.inria.fr (tapenade.inria.fr)... 138.96.19.98\n",
            "Connecting to tapenade.inria.fr (tapenade.inria.fr)|138.96.19.98|:8080... connected.\n",
            "HTTP request sent, awaiting response... 200 OK\n",
            "Length: 98590 (96K) [application/x-tar]\n",
            "Saving to: ‘ADFirstAidKit.tar.2’\n",
            "\n",
            "     0K .......... .......... .......... .......... .......... 51%  103K 0s\n",
            "    50K .......... .......... .......... .......... ......    100% 40.8M=0.5s\n",
            "\n",
            "2023-02-16 02:07:52 (197 KB/s) - ‘ADFirstAidKit.tar.2’ saved [98590/98590]\n",
            "\n"
          ]
        }
      ]
    },
    {
      "cell_type": "markdown",
      "source": [
        "Now, let's run Tapenade on our code snippet."
      ],
      "metadata": {
        "id": "caxpnF909Gnm"
      }
    },
    {
      "cell_type": "code",
      "source": [
        "%%bash\n",
        "/content/tapenade_3.16/bin/tapenade -b ctest.c"
      ],
      "metadata": {
        "id": "8Zuu7Ma49F38",
        "outputId": "825c1a3b-9ee7-4c99-f9c1-cbb45227283e",
        "colab": {
          "base_uri": "https://localhost:8080/"
        }
      },
      "execution_count": 31,
      "outputs": [
        {
          "output_type": "stream",
          "name": "stdout",
          "text": [
            "Tapenade 3.16 (develop) - 15 Feb 2023 15:01 - Java 11.0.17 Linux\n",
            "@@ TAPENADE_HOME=/content/tapenade_3.16/bin/..\n",
            "Tool: (DD99) Warning: Some features of C are not yet supported\n",
            "Command: Took procedure cfun as default differentiation root\n",
            "@@ Created ./ctest_b.c \n",
            "@@ Created ./ctest_b.msg\n"
          ]
        }
      ]
    },
    {
      "cell_type": "markdown",
      "source": [
        "Next, we can compile the original code and the derivative."
      ],
      "metadata": {
        "id": "oGBTK9i3-shc"
      }
    },
    {
      "cell_type": "code",
      "source": [
        "%%bash\n",
        "gcc -O3 -shared -fPIC ctest.c -o ctest.so\n",
        "gcc -O3 -shared -fPIC -I./ADFirstAidKit -L./ADFirstAidKit ctest_b.c -lAD -o ctest_b.so"
      ],
      "metadata": {
        "id": "E77_gUcC-xS7"
      },
      "execution_count": 35,
      "outputs": []
    },
    {
      "cell_type": "code",
      "execution_count": 36,
      "metadata": {
        "id": "sxv6O6RzM7QR"
      },
      "outputs": [],
      "source": [
        "lib = ctypes.cdll.LoadLibrary(\"./ctest.so\")\n",
        "fun = lib.cfun\n",
        "lib_b = ctypes.cdll.LoadLibrary(\"./ctest_b.so\")\n",
        "fun_b = lib_b.cfun_b\n",
        "\n",
        "\n",
        "class CustomCFunc(torch.autograd.Function):\n",
        "    @staticmethod\n",
        "    def forward(ctx, u_x, u_t, u):\n",
        "        ctx.save_for_backward(u_x, u_t, u)\n",
        "        u_x_c = np.ascontiguousarray(u_x.detach().cpu().numpy())\n",
        "        u_t_c = np.ascontiguousarray(u_t.detach().cpu().numpy())\n",
        "        u_c = np.ascontiguousarray(u.detach().cpu().numpy())\n",
        "        residual = np.ascontiguousarray(np.zeros(u.size(), dtype=np.float32))\n",
        "        #print(\"custom C inputs \", u_x[0:1], u_t[0:1], u[0:1])\n",
        "\n",
        "        fun.restype = None\n",
        "        fun.argtypes = [ndpointer(ctypes.c_float, flags=\"C_CONTIGUOUS\"),\n",
        "                        ndpointer(ctypes.c_float, flags=\"C_CONTIGUOUS\"),\n",
        "                        ndpointer(ctypes.c_float, flags=\"C_CONTIGUOUS\"),\n",
        "                        ndpointer(ctypes.c_float, flags=\"C_CONTIGUOUS\"),\n",
        "                        ctypes.c_size_t]\n",
        "        fun(u_x_c, u_t_c, u_c, residual, u_c.size)\n",
        "        #print(\"custom C output \", residual[0:1])\n",
        "        return torch.tensor(residual, requires_grad=True)\n",
        "\n",
        "    @staticmethod\n",
        "    def backward(ctx, grad_residual):\n",
        "        u_x, u_t, u = ctx.saved_tensors\n",
        "        u_x_c = np.ascontiguousarray(u_x.detach().cpu().numpy())\n",
        "        u_t_c = np.ascontiguousarray(u_t.detach().cpu().numpy())\n",
        "        u_c = np.ascontiguousarray(u.detach().cpu().numpy())\n",
        "        residual = np.ascontiguousarray(np.zeros(u.size(), dtype=np.float32))\n",
        "        residual_b_c = np.ascontiguousarray(grad_residual.detach().cpu().numpy())\n",
        "        u_x_b_c = np.ascontiguousarray(np.zeros(u.size(), dtype=np.float32))\n",
        "        u_t_b_c = np.ascontiguousarray(np.zeros(u.size(), dtype=np.float32))\n",
        "        u_b_c = np.ascontiguousarray(np.zeros(u.size(), dtype=np.float32))\n",
        "\n",
        "        fun_b.restype = None\n",
        "        fun_b.argtypes = [ndpointer(ctypes.c_float, flags=\"C_CONTIGUOUS\"),\n",
        "                        ndpointer(ctypes.c_float, flags=\"C_CONTIGUOUS\"),\n",
        "                        ndpointer(ctypes.c_float, flags=\"C_CONTIGUOUS\"),\n",
        "                        ndpointer(ctypes.c_float, flags=\"C_CONTIGUOUS\"),\n",
        "                        ndpointer(ctypes.c_float, flags=\"C_CONTIGUOUS\"),\n",
        "                        ndpointer(ctypes.c_float, flags=\"C_CONTIGUOUS\"),\n",
        "                        ndpointer(ctypes.c_float, flags=\"C_CONTIGUOUS\"),\n",
        "                        ndpointer(ctypes.c_float, flags=\"C_CONTIGUOUS\"),\n",
        "                        ctypes.c_size_t]\n",
        "        fun_b(u_x_c, u_x_b_c, u_t_c, u_t_b_c, u_c, u_b_c, residual, residual_b_c, u_c.size)\n",
        "        grad_u_x = torch.tensor(u_x_b_c, requires_grad=True)\n",
        "        grad_u_t = torch.tensor(u_t_b_c, requires_grad=True)\n",
        "        grad_u = torch.tensor(u_b_c, requires_grad=True)\n",
        "        return grad_u_x, grad_u_t, grad_u\n",
        "\n",
        "customcfunc = CustomCFunc.apply"
      ]
    },
    {
      "cell_type": "code",
      "execution_count": null,
      "metadata": {
        "id": "Vx-h93RUM7QT",
        "outputId": "345b6b68-186b-47c0-f99e-ef3be072a635"
      },
      "outputs": [
        {
          "name": "stdout",
          "output_type": "stream",
          "text": [
            "True\n"
          ]
        }
      ],
      "source": [
        "from torch.autograd import gradcheck\n",
        "u_x = torch.randn(500,1,dtype=torch.float,requires_grad=True)\n",
        "u_t = torch.randn(500,1,dtype=torch.float,requires_grad=True)\n",
        "u = torch.randn(500,1,dtype=torch.float,requires_grad=True)\n",
        "test = gradcheck(customcfunc, (u_x, u_t, u), eps=1e-3, atol=1e-2)\n",
        "print(test)"
      ]
    },
    {
      "cell_type": "code",
      "execution_count": null,
      "metadata": {
        "id": "k494-hqBM7QU"
      },
      "outputs": [],
      "source": [
        "## PDE as loss function. This would use the network which we call as u_theta\n",
        "def f(x,t, net):\n",
        "    u = net(x,t) # the dependent variable u is given by the network based on independent variables x,t\n",
        "    ## Based on our f = du/dx - 2du/dt - u, we need du/dx and du/dt\n",
        "    u_x = torch.autograd.grad(u.sum(), x, create_graph=True)[0]\n",
        "    u_t = torch.autograd.grad(u.sum(), t, create_graph=True)[0]\n",
        "    pde = u_x - 2*u_t - u\n",
        "    pde_custom = customfunc(u_x, u_t, u)\n",
        "    pde_custom_c = customcfunc(u_x, u_t, u)\n",
        "    return pde_custom_c"
      ]
    },
    {
      "cell_type": "code",
      "execution_count": null,
      "metadata": {
        "id": "fvihYxQ3M7QU"
      },
      "outputs": [],
      "source": []
    },
    {
      "cell_type": "code",
      "execution_count": null,
      "metadata": {
        "id": "ripYMxV9M7QY"
      },
      "outputs": [],
      "source": [
        "# Save Model\n",
        "torch.save(net.state_dict(), \"model_uxt.pt\")"
      ]
    },
    {
      "cell_type": "code",
      "execution_count": null,
      "metadata": {
        "id": "r6XKAktfM7QZ"
      },
      "outputs": [],
      "source": []
    },
    {
      "cell_type": "code",
      "execution_count": null,
      "metadata": {
        "id": "p_tCe1W8M7QZ"
      },
      "outputs": [],
      "source": []
    },
    {
      "cell_type": "code",
      "execution_count": null,
      "metadata": {
        "id": "aPVyA77KM7Qa"
      },
      "outputs": [],
      "source": []
    }
  ],
  "metadata": {
    "kernelspec": {
      "display_name": "Python 3 (ipykernel)",
      "language": "python",
      "name": "python3"
    },
    "language_info": {
      "codemirror_mode": {
        "name": "ipython",
        "version": 3
      },
      "file_extension": ".py",
      "mimetype": "text/x-python",
      "name": "python",
      "nbconvert_exporter": "python",
      "pygments_lexer": "ipython3",
      "version": "3.10.8"
    },
    "colab": {
      "provenance": [],
      "include_colab_link": true
    }
  },
  "nbformat": 4,
  "nbformat_minor": 0
}