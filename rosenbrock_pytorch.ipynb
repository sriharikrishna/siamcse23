{
  "nbformat": 4,
  "nbformat_minor": 0,
  "metadata": {
    "kernelspec": {
      "display_name": "Python 3",
      "language": "python",
      "name": "python3"
    },
    "language_info": {
      "codemirror_mode": {
        "name": "ipython",
        "version": 3
      },
      "file_extension": ".py",
      "mimetype": "text/x-python",
      "name": "python",
      "nbconvert_exporter": "python",
      "pygments_lexer": "ipython3",
      "version": "3.9.0"
    },
    "colab": {
      "provenance": [],
      "include_colab_link": true
    }
  },
  "cells": [
    {
      "cell_type": "markdown",
      "metadata": {
        "id": "view-in-github",
        "colab_type": "text"
      },
      "source": [
        "<a href=\"https://colab.research.google.com/github/sriharikrishna/siamcse23/blob/main/rosenbrock_pytorch.ipynb\" target=\"_parent\"><img src=\"https://colab.research.google.com/assets/colab-badge.svg\" alt=\"Open In Colab\"/></a>"
      ]
    },
    {
      "cell_type": "markdown",
      "metadata": {
        "id": "B9DO78IJ3To4"
      },
      "source": [
        "# Rosenbrock function\n",
        "**Notebook Authors**:\n",
        "[Jan Hückelheim](https://www.anl.gov/profile/jan-christian-hueckelheim)\n",
        "[Sri Hari Krishna Narayanan](https://www.mcs.anl.gov/~snarayan) \n",
        "[Ludger Paehler](https://ludger.fyi/) \n",
        "\n",
        "\n",
        "Also known as Rosenbrock's valley or Rosenbrock's banana function. It is a performance test for optimization. The narrow long valley makes it difficult to find the minimum. \n",
        "\n",
        "\\begin{equation}\n",
        "F(x) = \\sum_{i=0}^{N-1}100(x_{i+1} - x_i^2)^2 + (1 - x_i)^2.\n",
        "\\end{equation}\n",
        "\n",
        "<center><img src=\"https://upload.wikimedia.org/wikipedia/commons/3/32/Rosenbrock_function.svg\" width=\"40%\" /></center>\n"
      ]
    },
    {
      "cell_type": "markdown",
      "metadata": {
        "id": "zUQVBwdc3To5"
      },
      "source": [
        "### 1. Primal Function\n",
        "1. Evaluates the Rosenbrock function for an arbitary input vector."
      ]
    },
    {
      "cell_type": "code",
      "metadata": {
        "id": "w1DI9YNu3To6"
      },
      "source": [
        "import torch\n",
        "import matplotlib.pyplot as plt\n",
        "\n",
        "def rosenbrock(x):\n",
        "    \"\"\"\n",
        "    Input: x vector of values\n",
        "    Output: Result of Rosenbrock's banana function\n",
        "    \"\"\"\n",
        "    result = torch.sum(100.0 * (x[1:] - x[:-1]**2.0)**2.0 + (1 - x[:-1])**2.0,axis=0)\n",
        "    return result\n",
        "\n",
        "def plot_vals(vals, grad=None):\n",
        "    plt.plot(vals,label='primal input')\n",
        "    if grad != None:\n",
        "      plt.plot(grad,label='derivatives')\n",
        "    plt.xlabel('array index')\n",
        "    plt.legend()\n",
        "    plt.title('')\n",
        "    plt.show()"
      ],
      "execution_count": 1,
      "outputs": []
    },
    {
      "cell_type": "markdown",
      "metadata": {
        "id": "3trBKqNG3To6"
      },
      "source": [
        "### 2. Primal Driver\n",
        "1. Calls the Rosenbrock function. \n",
        "2. We have arbitarily created an array `[0.5, 0.5..., 0.5]` as its input."
      ]
    },
    {
      "cell_type": "code",
      "metadata": {
        "id": "pDjU1M8n3To6"
      },
      "source": [
        "def fun_driver(n):\n",
        "    \"\"\"\n",
        "    Input: n array length\n",
        "    Output: Result of Rosenbrock's banana function\n",
        "    \"\"\"\n",
        "    val = torch.full(n, 0.5) \n",
        "\n",
        "    #compute the result\n",
        "    result = rosenbrock(val)\n",
        "    \n",
        "    print(\"The input is\", val)\n",
        "    print(\"The result of Rosenbrock's is \", result)"
      ],
      "execution_count": 2,
      "outputs": []
    },
    {
      "cell_type": "code",
      "metadata": {
        "id": "6zbAGnJB3To7"
      },
      "source": [
        "fun_driver((10,))"
      ],
      "execution_count": null,
      "outputs": []
    },
    {
      "cell_type": "markdown",
      "metadata": {
        "id": "dyEgww5c3To7"
      },
      "source": [
        "### 3. First look at derivatives: `torch.autograd.grad()`\n",
        "1. https://pytorch.org/docs/stable/autograd.html\n",
        "2. Together compute $v\\cdot J$ for a function that computes a scalar value ($R^n \\rightarrow R$).   "
      ]
    },
    {
      "cell_type": "code",
      "metadata": {
        "id": "K8AG5wiB3To7"
      },
      "source": [
        "#Create a function that computes the derivatives.\n",
        "def grad_driver(n):\n",
        "    \"\"\"\n",
        "    Input: n array length\n",
        "    Output: Derivatives of Rosenbrock's banana function\n",
        "    \"\"\"\n",
        "    #create the input array\n",
        "    val = torch.tensor(torch.full((n,), 0.5), requires_grad=True) \n",
        "\n",
        "    #compute the result\n",
        "    result = rosenbrock(val)\n",
        "\n",
        "    #compute the derivatives\n",
        "    grad_vals = torch.autograd.grad(outputs=result, inputs=val)\n",
        "    \n",
        "    plot_vals(val.detach().numpy(),grad=grad_vals[0])\n",
        "    print(\"The input is\", val)\n",
        "    print(\"The grad result is \", grad_vals)"
      ],
      "execution_count": 8,
      "outputs": []
    },
    {
      "cell_type": "code",
      "metadata": {
        "id": "rpvTSprC3To8"
      },
      "source": [
        "grad_driver(10)"
      ],
      "execution_count": null,
      "outputs": []
    },
    {
      "cell_type": "markdown",
      "source": [
        "### 4. Second look at derivatives: `torch.Tensor.backward()` \n",
        "1. https://pytorch.org/docs/stable/autograd.html\n",
        "2. Together compute $v\\cdot J$ for a function that computes a scalar value ($R^n \\rightarrow R$).  "
      ],
      "metadata": {
        "id": "njOUSV75jmj8"
      }
    },
    {
      "cell_type": "code",
      "source": [
        "#Create a function that computes the derivatives.\n",
        "def backward_driver(n):\n",
        "    \"\"\"\n",
        "    Input: n array length\n",
        "    Output: Derivatives of Rosenbrock's banana function\n",
        "    \"\"\"\n",
        "    #create the input array\n",
        "    val = torch.tensor(torch.full((n,), 0.5), requires_grad=True) \n",
        "    \n",
        "    #compute the result\n",
        "    result = rosenbrock(val)\n",
        "\n",
        "    #compute the derivatives\n",
        "    result.backward()\n",
        "    \n",
        "    plot_vals(val.detach().numpy(),grad=val.grad)\n",
        "    print(\"The input is\", val)\n",
        "    print(\"The grad result is \", val.grad)"
      ],
      "metadata": {
        "id": "dYw5y4JSjgBv"
      },
      "execution_count": 6,
      "outputs": []
    },
    {
      "cell_type": "code",
      "source": [
        "backward_driver(10)"
      ],
      "metadata": {
        "id": "9iLucwn9jiqf"
      },
      "execution_count": null,
      "outputs": []
    }
  ]
}